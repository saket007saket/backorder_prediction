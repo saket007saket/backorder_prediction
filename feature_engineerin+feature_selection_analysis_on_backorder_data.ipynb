{
  "nbformat": 4,
  "nbformat_minor": 0,
  "metadata": {
    "kernelspec": {
      "display_name": "Python 3",
      "language": "python",
      "name": "python3"
    },
    "language_info": {
      "codemirror_mode": {
        "name": "ipython",
        "version": 3
      },
      "file_extension": ".py",
      "mimetype": "text/x-python",
      "name": "python",
      "nbconvert_exporter": "python",
      "pygments_lexer": "ipython3",
      "version": "3.7.7"
    },
    "colab": {
      "name": "feature engineerin+feature selection analysis on backorder data.ipynb",
      "provenance": []
    }
  },
  "cells": [
    {
      "cell_type": "markdown",
      "metadata": {
        "id": "yly65jmt_OxM",
        "colab_type": "text"
      },
      "source": [
        "# data preprocessing (feature engineering +feature selection + sampling )"
      ]
    },
    {
      "cell_type": "code",
      "metadata": {
        "id": "RJsG_qJH_OxP",
        "colab_type": "code",
        "colab": {}
      },
      "source": [
        "import pandas as pd \n",
        "import numpy as np\n"
      ],
      "execution_count": 0,
      "outputs": []
    },
    {
      "cell_type": "code",
      "metadata": {
        "id": "SbrGyilQ_OxT",
        "colab_type": "code",
        "colab": {},
        "outputId": "a8b3c3b2-42e7-4acb-eb81-86c386c50b25"
      },
      "source": [
        "data=pd.read_csv(r\"C:\\Users\\SAKET NANDAN\\Documents\\current_hackathon\\backorder_prediction\\Back order prediction\\Training_Dataset_v2.csv\")\n"
      ],
      "execution_count": 0,
      "outputs": [
        {
          "output_type": "stream",
          "text": [
            "C:\\Users\\SAKET NANDAN\\anaconda3\\lib\\site-packages\\IPython\\core\\interactiveshell.py:3063: DtypeWarning: Columns (0) have mixed types.Specify dtype option on import or set low_memory=False.\n",
            "  interactivity=interactivity, compiler=compiler, result=result)\n"
          ],
          "name": "stderr"
        }
      ]
    },
    {
      "cell_type": "code",
      "metadata": {
        "id": "2yJ2GqXv_OxY",
        "colab_type": "code",
        "colab": {},
        "outputId": "cd13cc27-ab8a-420a-de66-2f8ef2aeafea"
      },
      "source": [
        "data.isnull().sum()\n"
      ],
      "execution_count": 0,
      "outputs": [
        {
          "output_type": "execute_result",
          "data": {
            "text/plain": [
              "sku                       0\n",
              "national_inv              1\n",
              "lead_time            100894\n",
              "in_transit_qty            1\n",
              "forecast_3_month          1\n",
              "forecast_6_month          1\n",
              "forecast_9_month          1\n",
              "sales_1_month             1\n",
              "sales_3_month             1\n",
              "sales_6_month             1\n",
              "sales_9_month             1\n",
              "min_bank                  1\n",
              "potential_issue           1\n",
              "pieces_past_due           1\n",
              "perf_6_month_avg          1\n",
              "perf_12_month_avg         1\n",
              "local_bo_qty              1\n",
              "deck_risk                 1\n",
              "oe_constraint             1\n",
              "ppap_risk                 1\n",
              "stop_auto_buy             1\n",
              "rev_stop                  1\n",
              "went_on_backorder         1\n",
              "dtype: int64"
            ]
          },
          "metadata": {
            "tags": []
          },
          "execution_count": 7
        }
      ]
    },
    {
      "cell_type": "markdown",
      "metadata": {
        "id": "mpYvgc07_Oxc",
        "colab_type": "text"
      },
      "source": [
        "###### if, we see above then  went_on_backorder  is our target variable and containing only one missing value so i m trying to remove null values from target variable only"
      ]
    },
    {
      "cell_type": "code",
      "metadata": {
        "id": "rjT_8Wx1_Oxd",
        "colab_type": "code",
        "colab": {}
      },
      "source": [
        "df = data.dropna(axis=0, subset=['went_on_backorder'])"
      ],
      "execution_count": 0,
      "outputs": []
    },
    {
      "cell_type": "code",
      "metadata": {
        "id": "iQ0wctT1_Oxi",
        "colab_type": "code",
        "colab": {},
        "outputId": "885fef89-e120-4352-a281-75ababb139f2"
      },
      "source": [
        "df.isnull().sum()"
      ],
      "execution_count": 0,
      "outputs": [
        {
          "output_type": "execute_result",
          "data": {
            "text/plain": [
              "sku                       0\n",
              "national_inv              0\n",
              "lead_time            100893\n",
              "in_transit_qty            0\n",
              "forecast_3_month          0\n",
              "forecast_6_month          0\n",
              "forecast_9_month          0\n",
              "sales_1_month             0\n",
              "sales_3_month             0\n",
              "sales_6_month             0\n",
              "sales_9_month             0\n",
              "min_bank                  0\n",
              "potential_issue           0\n",
              "pieces_past_due           0\n",
              "perf_6_month_avg          0\n",
              "perf_12_month_avg         0\n",
              "local_bo_qty              0\n",
              "deck_risk                 0\n",
              "oe_constraint             0\n",
              "ppap_risk                 0\n",
              "stop_auto_buy             0\n",
              "rev_stop                  0\n",
              "went_on_backorder         0\n",
              "dtype: int64"
            ]
          },
          "metadata": {
            "tags": []
          },
          "execution_count": 6
        }
      ]
    },
    {
      "cell_type": "markdown",
      "metadata": {
        "id": "ZUh0_cuZ_Oxn",
        "colab_type": "text"
      },
      "source": [
        "###### ooo!!! wow , its shows that we have entire 1 row contining only null values ,thats all removed , now we have only null values in lead_time varible only "
      ]
    },
    {
      "cell_type": "code",
      "metadata": {
        "id": "m_gGZq5R_Oxo",
        "colab_type": "code",
        "colab": {}
      },
      "source": [
        "#there are so many encoding techniques which i m using to create monotonic relation-ship between independent and target variables \n",
        "#in order to that i have to pass both target variable and independent variables in method() and it takes target varible in numerical form only \n",
        "#so here i m just naming the lables \n",
        "\n",
        "renaming={\"went_on_backorder\":{\"Yes\":1,\"No\":0}}\n",
        "df.replace(renaming,inplace=True)"
      ],
      "execution_count": 0,
      "outputs": []
    },
    {
      "cell_type": "code",
      "metadata": {
        "id": "Ex6qJV-K_Oxs",
        "colab_type": "code",
        "colab": {}
      },
      "source": [
        "## now ,i will save this file so that i can use this in model building \n",
        "df.to_csv(r\"C:\\Users\\SAKET NANDAN\\Documents\\current_hackathon\\backorder_prediction\\Back order prediction\\data_no_null_in_target.csv\",index=False)"
      ],
      "execution_count": 0,
      "outputs": []
    },
    {
      "cell_type": "code",
      "metadata": {
        "id": "Xy-Tb7VN_Oxw",
        "colab_type": "code",
        "colab": {}
      },
      "source": [
        "data=df.copy()"
      ],
      "execution_count": 0,
      "outputs": []
    },
    {
      "cell_type": "code",
      "metadata": {
        "id": "7_6CyDDd_Ox1",
        "colab_type": "code",
        "colab": {},
        "outputId": "58b483df-e4b4-4194-91ef-d72558ee9474"
      },
      "source": [
        "#we presenting all the columns given here \n",
        "data.columns"
      ],
      "execution_count": 0,
      "outputs": [
        {
          "output_type": "execute_result",
          "data": {
            "text/plain": [
              "Index(['sku', 'national_inv', 'lead_time', 'in_transit_qty',\n",
              "       'forecast_3_month', 'forecast_6_month', 'forecast_9_month',\n",
              "       'sales_1_month', 'sales_3_month', 'sales_6_month', 'sales_9_month',\n",
              "       'min_bank', 'potential_issue', 'pieces_past_due', 'perf_6_month_avg',\n",
              "       'perf_12_month_avg', 'local_bo_qty', 'deck_risk', 'oe_constraint',\n",
              "       'ppap_risk', 'stop_auto_buy', 'rev_stop', 'went_on_backorder'],\n",
              "      dtype='object')"
            ]
          },
          "metadata": {
            "tags": []
          },
          "execution_count": 38
        }
      ]
    },
    {
      "cell_type": "code",
      "metadata": {
        "id": "7dUEGDEk_Ox5",
        "colab_type": "code",
        "colab": {},
        "outputId": "69994ebb-4cd1-4ce0-c913-4577978e8739"
      },
      "source": [
        "#what is the varaible types and non-null count for each variables we r presenting here \n",
        "data.info()"
      ],
      "execution_count": 0,
      "outputs": [
        {
          "output_type": "stream",
          "text": [
            "<class 'pandas.core.frame.DataFrame'>\n",
            "Int64Index: 1687860 entries, 0 to 1687859\n",
            "Data columns (total 23 columns):\n",
            " #   Column             Non-Null Count    Dtype  \n",
            "---  ------             --------------    -----  \n",
            " 0   sku                1687860 non-null  object \n",
            " 1   national_inv       1687860 non-null  float64\n",
            " 2   lead_time          1586967 non-null  float64\n",
            " 3   in_transit_qty     1687860 non-null  float64\n",
            " 4   forecast_3_month   1687860 non-null  float64\n",
            " 5   forecast_6_month   1687860 non-null  float64\n",
            " 6   forecast_9_month   1687860 non-null  float64\n",
            " 7   sales_1_month      1687860 non-null  float64\n",
            " 8   sales_3_month      1687860 non-null  float64\n",
            " 9   sales_6_month      1687860 non-null  float64\n",
            " 10  sales_9_month      1687860 non-null  float64\n",
            " 11  min_bank           1687860 non-null  float64\n",
            " 12  potential_issue    1687860 non-null  object \n",
            " 13  pieces_past_due    1687860 non-null  float64\n",
            " 14  perf_6_month_avg   1687860 non-null  float64\n",
            " 15  perf_12_month_avg  1687860 non-null  float64\n",
            " 16  local_bo_qty       1687860 non-null  float64\n",
            " 17  deck_risk          1687860 non-null  object \n",
            " 18  oe_constraint      1687860 non-null  object \n",
            " 19  ppap_risk          1687860 non-null  object \n",
            " 20  stop_auto_buy      1687860 non-null  object \n",
            " 21  rev_stop           1687860 non-null  object \n",
            " 22  went_on_backorder  1687860 non-null  int64  \n",
            "dtypes: float64(15), int64(1), object(7)\n",
            "memory usage: 309.1+ MB\n"
          ],
          "name": "stdout"
        }
      ]
    },
    {
      "cell_type": "code",
      "metadata": {
        "id": "HZ9agN2Y_Ox8",
        "colab_type": "code",
        "colab": {}
      },
      "source": [
        "#since sku(product id) will not play an important role in model building so i m deleting sku here \n",
        "data.drop(labels='sku',axis=1,inplace=True)"
      ],
      "execution_count": 0,
      "outputs": []
    },
    {
      "cell_type": "markdown",
      "metadata": {
        "id": "MHZI6RYf_OyB",
        "colab_type": "text"
      },
      "source": [
        "##### generally any feature engineering we should perform we should fit on train data set then propagate to test dataset  , so i m here spliting dataset into train and test set "
      ]
    },
    {
      "cell_type": "markdown",
      "metadata": {
        "id": "EMfXRYJB_OyD",
        "colab_type": "text"
      },
      "source": [
        "### 1.splitting data set into train and test dataset  "
      ]
    },
    {
      "cell_type": "code",
      "metadata": {
        "id": "oMp_HFGt_OyE",
        "colab_type": "code",
        "colab": {}
      },
      "source": [
        "from sklearn.model_selection import train_test_split"
      ],
      "execution_count": 0,
      "outputs": []
    },
    {
      "cell_type": "code",
      "metadata": {
        "id": "09uwgmMs_OyI",
        "colab_type": "code",
        "colab": {},
        "outputId": "c6c9025d-a3a2-4589-a1b3-29c7102fd0c7"
      },
      "source": [
        "# Let's divide into train and test set\n",
        "\n",
        "X_train, X_test, y_train, y_test = train_test_split(\n",
        "    data.drop(labels='went_on_backorder', axis=1),  # predictors\n",
        "    data['went_on_backorder'],  # target\n",
        "    test_size=0.3,\n",
        "    random_state=0)\n",
        "\n",
        "X_train.shape, X_test.shape"
      ],
      "execution_count": 0,
      "outputs": [
        {
          "output_type": "execute_result",
          "data": {
            "text/plain": [
              "((1181502, 21), (506358, 21))"
            ]
          },
          "metadata": {
            "tags": []
          },
          "execution_count": 42
        }
      ]
    },
    {
      "cell_type": "code",
      "metadata": {
        "id": "04xP_SCo_OyM",
        "colab_type": "code",
        "colab": {},
        "outputId": "4d60029d-7d2e-4c96-e06a-8cc451dab1df"
      },
      "source": [
        "# find categorical variables\n",
        "\n",
        "categorical = [var for var in X_train.columns if X_train[var].dtype =='O']\n",
        "\n",
        "print('There are {} categorical variables in training set.\\n'.format(len(categorical)))\n",
        "\n",
        "print('The categorical variables are :', categorical)"
      ],
      "execution_count": 0,
      "outputs": [
        {
          "output_type": "stream",
          "text": [
            "There are 6 categorical variables in training set.\n",
            "\n",
            "The categorical variables are : ['potential_issue', 'deck_risk', 'oe_constraint', 'ppap_risk', 'stop_auto_buy', 'rev_stop']\n"
          ],
          "name": "stdout"
        }
      ]
    },
    {
      "cell_type": "code",
      "metadata": {
        "id": "iFSA5ZAd_OyP",
        "colab_type": "code",
        "colab": {},
        "outputId": "68994083-fe19-4495-bca9-984ca633f1f6"
      },
      "source": [
        "# find numerical variables\n",
        "\n",
        "numerical = [var for var in X_train.columns if X_train[var].dtype !='O']\n",
        "\n",
        "print('There are {} numerical variables in training set.\\n'.format(len(numerical)))\n",
        "\n",
        "print('The numerical variables are :', numerical)"
      ],
      "execution_count": 0,
      "outputs": [
        {
          "output_type": "stream",
          "text": [
            "There are 15 numerical variables in training set.\n",
            "\n",
            "The numerical variables are : ['national_inv', 'lead_time', 'in_transit_qty', 'forecast_3_month', 'forecast_6_month', 'forecast_9_month', 'sales_1_month', 'sales_3_month', 'sales_6_month', 'sales_9_month', 'min_bank', 'pieces_past_due', 'perf_6_month_avg', 'perf_12_month_avg', 'local_bo_qty']\n"
          ],
          "name": "stdout"
        }
      ]
    },
    {
      "cell_type": "markdown",
      "metadata": {
        "id": "Va4YNyn9_OyT",
        "colab_type": "text"
      },
      "source": [
        "### 1.missng imput"
      ]
    },
    {
      "cell_type": "markdown",
      "metadata": {
        "id": "iQoGjgFX_OyT",
        "colab_type": "text"
      },
      "source": [
        "###### for numerical data before imputing blindely we should check whther data is normalised or not , if normal then we can perform mean imputation since in normal spread mean=median=mode, but if our data is skewed then we should impute by median becoz median lies in skewed area , so here in our data set only lead_time column have large no of missing values so  i m checking narmality of only lead_time "
      ]
    },
    {
      "cell_type": "code",
      "metadata": {
        "id": "XOB8-d6f_OyU",
        "colab_type": "code",
        "colab": {},
        "outputId": "5de76200-f2b1-4a36-84a3-5c894c04e1ff"
      },
      "source": [
        " data['lead_time'].hist()#since lead time is not normal then i will impute lead_time by median value"
      ],
      "execution_count": 0,
      "outputs": [
        {
          "output_type": "execute_result",
          "data": {
            "text/plain": [
              "<matplotlib.axes._subplots.AxesSubplot at 0x12a14178708>"
            ]
          },
          "metadata": {
            "tags": []
          },
          "execution_count": 45
        },
        {
          "output_type": "display_data",
          "data": {
            "image/png": "[encoded data removed]",
            "text/plain": [
              "<Figure size 432x288 with 1 Axes>"
            ]
          },
          "metadata": {
            "tags": [],
            "needs_background": "light"
          }
        }
      ]
    },
    {
      "cell_type": "code",
      "metadata": {
        "id": "3ZZBZNCV_OyY",
        "colab_type": "code",
        "colab": {}
      },
      "source": [
        "# from feature-engine\n",
        "from feature_engine import missing_data_imputers as mdi"
      ],
      "execution_count": 0,
      "outputs": []
    },
    {
      "cell_type": "code",
      "metadata": {
        "id": "C3f3r16s_Oyd",
        "colab_type": "code",
        "colab": {}
      },
      "source": [
        " median_imputer= mdi.MeanMedianImputer(imputation_method='median', variables = ['lead_time'])"
      ],
      "execution_count": 0,
      "outputs": []
    },
    {
      "cell_type": "code",
      "metadata": {
        "id": "ES4rjHbt_Oyg",
        "colab_type": "code",
        "colab": {},
        "outputId": "4dd5ff3a-8290-4d4b-a80d-d3f4297001de"
      },
      "source": [
        "median_imputer.fit(X_train)"
      ],
      "execution_count": 0,
      "outputs": [
        {
          "output_type": "execute_result",
          "data": {
            "text/plain": [
              "MeanMedianImputer(imputation_method='median', variables=['lead_time'])"
            ]
          },
          "metadata": {
            "tags": []
          },
          "execution_count": 48
        }
      ]
    },
    {
      "cell_type": "code",
      "metadata": {
        "id": "3iyv5FwY_Oyk",
        "colab_type": "code",
        "colab": {}
      },
      "source": [
        "# let's transform the data with the pipeline\n",
        "X_train_imp= median_imputer.transform(X_train)\n",
        "X_test_imp= median_imputer.transform(X_test)\n",
        "\n"
      ],
      "execution_count": 0,
      "outputs": []
    },
    {
      "cell_type": "code",
      "metadata": {
        "id": "FBxUvANT_Oym",
        "colab_type": "code",
        "colab": {}
      },
      "source": [
        "#checking after imputation about whether null values removed from both train and test data set or not \n",
        "#X_train_imp.isnull().sum()\n",
        "#X_test_imp.isnull().sum()"
      ],
      "execution_count": 0,
      "outputs": []
    },
    {
      "cell_type": "code",
      "metadata": {
        "id": "ze3N2AQL_Oyp",
        "colab_type": "code",
        "colab": {}
      },
      "source": [
        "X_train_no_miss=X_train_imp.copy()\n",
        "X_test_no_miss=X_test_imp.copy()"
      ],
      "execution_count": 0,
      "outputs": []
    },
    {
      "cell_type": "code",
      "metadata": {
        "id": "XYS8Ix05_Oys",
        "colab_type": "code",
        "colab": {}
      },
      "source": [
        "y_train_no_miss=y_train.copy()\n",
        "y_test_no_miss=y_test.copy()"
      ],
      "execution_count": 0,
      "outputs": []
    },
    {
      "cell_type": "markdown",
      "metadata": {
        "id": "_xv9tLpI_Oyw",
        "colab_type": "text"
      },
      "source": [
        "## categorical encoding "
      ]
    },
    {
      "cell_type": "markdown",
      "metadata": {
        "id": "Fao8-42A_Oyx",
        "colab_type": "text"
      },
      "source": [
        "###### since all the categorical column in this data set having two label (yes,no) then both one hot encoding and label encoding will work same . so here i m doing encoding by two technique ordered integer encoding and weight of evidence(woe) encoding because in both technique encoded value is assigned such way that encoded feature will create monotoic relationship with target variables  "
      ]
    },
    {
      "cell_type": "markdown",
      "metadata": {
        "id": "d5vbNmf4_Oyx",
        "colab_type": "text"
      },
      "source": [
        "###### in order to decide that which encoding technique is working good for our entire dataset , i will use encoded data set in random forest and logistic reggression and compare their roc_auc value "
      ]
    },
    {
      "cell_type": "code",
      "metadata": {
        "id": "-Xb-hFzX_Oyy",
        "colab_type": "code",
        "colab": {}
      },
      "source": [
        ""
      ],
      "execution_count": 0,
      "outputs": []
    },
    {
      "cell_type": "markdown",
      "metadata": {
        "id": "J6Qby_ho_Oy2",
        "colab_type": "text"
      },
      "source": [
        "### 1.ordered integer encoding\n"
      ]
    },
    {
      "cell_type": "code",
      "metadata": {
        "id": "zbaHe50Z_Oy2",
        "colab_type": "code",
        "colab": {}
      },
      "source": [
        "from feature_engine.categorical_encoders import OrdinalCategoricalEncoder"
      ],
      "execution_count": 0,
      "outputs": []
    },
    {
      "cell_type": "code",
      "metadata": {
        "id": "5LCwuJax_Oy6",
        "colab_type": "code",
        "colab": {}
      },
      "source": [
        "ordinal_enc = OrdinalCategoricalEncoder(\n",
        "    # NOTE that we indicate ordered in the encoding_method, otherwise it assings numbers arbitrarily\n",
        "    encoding_method='ordered',\n",
        "    variables=categorical)"
      ],
      "execution_count": 0,
      "outputs": []
    },
    {
      "cell_type": "code",
      "metadata": {
        "id": "3n9UlbfJ_Oy8",
        "colab_type": "code",
        "colab": {},
        "outputId": "a59f5efe-aa12-4d92-906c-a3f93fb91878"
      },
      "source": [
        "ordinal_enc.fit(X_train_no_miss,y_train_no_miss)"
      ],
      "execution_count": 0,
      "outputs": [
        {
          "output_type": "execute_result",
          "data": {
            "text/plain": [
              "OrdinalCategoricalEncoder(encoding_method='ordered',\n",
              "                          variables=['potential_issue', 'deck_risk',\n",
              "                                     'oe_constraint', 'ppap_risk',\n",
              "                                     'stop_auto_buy', 'rev_stop'])"
            ]
          },
          "metadata": {
            "tags": []
          },
          "execution_count": 55
        }
      ]
    },
    {
      "cell_type": "code",
      "metadata": {
        "id": "TXTYSVOD_OzA",
        "colab_type": "code",
        "colab": {}
      },
      "source": [
        "X_train_ordered = ordinal_enc.transform(X_train_no_miss)\n",
        "X_test_ordered = ordinal_enc.transform(X_test_no_miss)"
      ],
      "execution_count": 0,
      "outputs": []
    },
    {
      "cell_type": "code",
      "metadata": {
        "id": "1A3lTtEn_OzD",
        "colab_type": "code",
        "colab": {}
      },
      "source": [
        "#X_train_ordered\n",
        "#X_test_ordered"
      ],
      "execution_count": 0,
      "outputs": []
    },
    {
      "cell_type": "markdown",
      "metadata": {
        "id": "ozQY1Wz6_OzI",
        "colab_type": "text"
      },
      "source": [
        "##### weight of evidence encoding"
      ]
    },
    {
      "cell_type": "code",
      "metadata": {
        "id": "LX53UQHK_OzI",
        "colab_type": "code",
        "colab": {}
      },
      "source": [
        "from feature_engine.categorical_encoders import WoERatioCategoricalEncoder"
      ],
      "execution_count": 0,
      "outputs": []
    },
    {
      "cell_type": "code",
      "metadata": {
        "id": "mhm5V0eT_OzM",
        "colab_type": "code",
        "colab": {}
      },
      "source": [
        "woe_enc = WoERatioCategoricalEncoder( encoding_method = 'woe', variables=categorical)\n"
      ],
      "execution_count": 0,
      "outputs": []
    },
    {
      "cell_type": "code",
      "metadata": {
        "id": "POaHLqgQ_OzO",
        "colab_type": "code",
        "colab": {},
        "outputId": "cfdb08a4-0cc9-4b1a-fc84-870d1d0a1f66"
      },
      "source": [
        "# when fitting the transformer, we need to pass the target as well\n",
        "# just like with any Scikit-learn predictor class\n",
        "\n",
        "woe_enc.fit(X_train_no_miss, y_train_no_miss)"
      ],
      "execution_count": 0,
      "outputs": [
        {
          "output_type": "error",
          "ename": "ValueError",
          "evalue": "p(0) or p(1) for a category in variable rev_stop is zero, log of zero is not defined",
          "traceback": [
            "\u001b[1;31m---------------------------------------------------------------------------\u001b[0m",
            "\u001b[1;31mValueError\u001b[0m                                Traceback (most recent call last)",
            "\u001b[1;32m<ipython-input-61-56f17dd36b97>\u001b[0m in \u001b[0;36m<module>\u001b[1;34m\u001b[0m\n\u001b[0;32m      2\u001b[0m \u001b[1;31m# just like with any Scikit-learn predictor class\u001b[0m\u001b[1;33m\u001b[0m\u001b[1;33m\u001b[0m\u001b[1;33m\u001b[0m\u001b[0m\n\u001b[0;32m      3\u001b[0m \u001b[1;33m\u001b[0m\u001b[0m\n\u001b[1;32m----> 4\u001b[1;33m \u001b[0mwoe_enc\u001b[0m\u001b[1;33m.\u001b[0m\u001b[0mfit\u001b[0m\u001b[1;33m(\u001b[0m\u001b[0mX_train_no_miss\u001b[0m\u001b[1;33m,\u001b[0m \u001b[0my_train_no_miss\u001b[0m\u001b[1;33m)\u001b[0m\u001b[1;33m\u001b[0m\u001b[1;33m\u001b[0m\u001b[0m\n\u001b[0m",
            "\u001b[1;32m~\\anaconda3\\lib\\site-packages\\feature_engine\\categorical_encoders.py\u001b[0m in \u001b[0;36mfit\u001b[1;34m(self, X, y)\u001b[0m\n\u001b[0;32m    423\u001b[0m                 \u001b[1;32mif\u001b[0m \u001b[1;32mnot\u001b[0m \u001b[0mt\u001b[0m\u001b[1;33m.\u001b[0m\u001b[0mloc\u001b[0m\u001b[1;33m[\u001b[0m\u001b[0mt\u001b[0m\u001b[1;33m[\u001b[0m\u001b[1;34m'p0'\u001b[0m\u001b[1;33m]\u001b[0m \u001b[1;33m==\u001b[0m \u001b[1;36m0\u001b[0m\u001b[1;33m,\u001b[0m \u001b[1;33m:\u001b[0m\u001b[1;33m]\u001b[0m\u001b[1;33m.\u001b[0m\u001b[0mempty\u001b[0m \u001b[1;32mor\u001b[0m \u001b[1;32mnot\u001b[0m \u001b[0mt\u001b[0m\u001b[1;33m.\u001b[0m\u001b[0mloc\u001b[0m\u001b[1;33m[\u001b[0m\u001b[0mt\u001b[0m\u001b[1;33m[\u001b[0m\u001b[1;34m'p1'\u001b[0m\u001b[1;33m]\u001b[0m \u001b[1;33m==\u001b[0m \u001b[1;36m0\u001b[0m\u001b[1;33m,\u001b[0m \u001b[1;33m:\u001b[0m\u001b[1;33m]\u001b[0m\u001b[1;33m.\u001b[0m\u001b[0mempty\u001b[0m\u001b[1;33m:\u001b[0m\u001b[1;33m\u001b[0m\u001b[1;33m\u001b[0m\u001b[0m\n\u001b[0;32m    424\u001b[0m                     raise ValueError(\n\u001b[1;32m--> 425\u001b[1;33m                         \"p(0) or p(1) for a category in variable {} is zero, log of zero is not defined\".format(var))\n\u001b[0m\u001b[0;32m    426\u001b[0m                 \u001b[1;32melse\u001b[0m\u001b[1;33m:\u001b[0m\u001b[1;33m\u001b[0m\u001b[1;33m\u001b[0m\u001b[0m\n\u001b[0;32m    427\u001b[0m                     \u001b[0mself\u001b[0m\u001b[1;33m.\u001b[0m\u001b[0mencoder_dict_\u001b[0m\u001b[1;33m[\u001b[0m\u001b[0mvar\u001b[0m\u001b[1;33m]\u001b[0m \u001b[1;33m=\u001b[0m \u001b[1;33m(\u001b[0m\u001b[0mnp\u001b[0m\u001b[1;33m.\u001b[0m\u001b[0mlog\u001b[0m\u001b[1;33m(\u001b[0m\u001b[0mt\u001b[0m\u001b[1;33m.\u001b[0m\u001b[0mp1\u001b[0m \u001b[1;33m/\u001b[0m \u001b[0mt\u001b[0m\u001b[1;33m.\u001b[0m\u001b[0mp0\u001b[0m\u001b[1;33m)\u001b[0m\u001b[1;33m)\u001b[0m\u001b[1;33m.\u001b[0m\u001b[0mto_dict\u001b[0m\u001b[1;33m(\u001b[0m\u001b[1;33m)\u001b[0m\u001b[1;33m\u001b[0m\u001b[1;33m\u001b[0m\u001b[0m\n",
            "\u001b[1;31mValueError\u001b[0m: p(0) or p(1) for a category in variable rev_stop is zero, log of zero is not defined"
          ]
        }
      ]
    },
    {
      "cell_type": "markdown",
      "metadata": {
        "id": "IRss6dRV_OzR",
        "colab_type": "text"
      },
      "source": [
        "###### sinc,one of the category,s probabilty becomes 0 ,so woe will not work "
      ]
    },
    {
      "cell_type": "markdown",
      "metadata": {
        "id": "ukUmh6nJ_OzR",
        "colab_type": "text"
      },
      "source": [
        "### Random Forest Performance\n"
      ]
    },
    {
      "cell_type": "code",
      "metadata": {
        "id": "G_xbmBNP_OzS",
        "colab_type": "code",
        "colab": {}
      },
      "source": [
        "from sklearn.ensemble import RandomForestClassifier\n",
        "from sklearn.metrics import roc_auc_score"
      ],
      "execution_count": 0,
      "outputs": []
    },
    {
      "cell_type": "code",
      "metadata": {
        "id": "64ecHqdt_OzU",
        "colab_type": "code",
        "colab": {}
      },
      "source": [
        "# create a function to build random forests and compare performance in train and test set\n",
        "\n",
        "\n",
        "def run_randomForests(X_train, X_test, y_train, y_test):\n",
        "\n",
        "    rf = RandomForestClassifier(n_estimators=50, random_state=39, max_depth=3)\n",
        "    rf.fit(X_train, y_train)\n",
        "\n",
        "    print('Train set')\n",
        "    pred = rf.predict_proba(X_train)\n",
        "    print(\n",
        "        'Random Forests roc-auc: {}'.format(roc_auc_score(y_train, pred[:, 1])))\n",
        "\n",
        "    print('Test set')\n",
        "    pred = rf.predict_proba(X_test)\n",
        "    print(\n",
        "        'Random Forests roc-auc: {}'.format(roc_auc_score(y_test, pred[:, 1])))"
      ],
      "execution_count": 0,
      "outputs": []
    },
    {
      "cell_type": "markdown",
      "metadata": {
        "id": "zUfichb2_OzX",
        "colab_type": "text"
      },
      "source": [
        "### logistic reggression"
      ]
    },
    {
      "cell_type": "code",
      "metadata": {
        "id": "EoulnEuh_OzY",
        "colab_type": "code",
        "colab": {}
      },
      "source": [
        "from sklearn.linear_model import LogisticRegression\n"
      ],
      "execution_count": 0,
      "outputs": []
    },
    {
      "cell_type": "code",
      "metadata": {
        "id": "f3LrK08y_Ozb",
        "colab_type": "code",
        "colab": {}
      },
      "source": [
        "def run_logistic(X_train, X_test, y_train, y_test):\n",
        "\n",
        "    # function to train and test the performance of logistic regression\n",
        "    logit = LogisticRegression(random_state=44, C=0.01)\n",
        "    logit.fit(X_train, y_train)\n",
        "\n",
        "    print('Train set')\n",
        "    pred = logit.predict_proba(X_train)\n",
        "    print(\n",
        "        'Logistic Regression roc-auc: {}'.format(roc_auc_score(y_train, pred[:, 1])))\n",
        "\n",
        "    print('Test set')\n",
        "    pred = logit.predict_proba(X_test)\n",
        "    print(\n",
        "        'Logistic Regression roc-auc: {}'.format(roc_auc_score(y_test, pred[:, 1])))"
      ],
      "execution_count": 0,
      "outputs": []
    },
    {
      "cell_type": "code",
      "metadata": {
        "id": "VY_lbi7n_Oze",
        "colab_type": "code",
        "colab": {},
        "outputId": "cbb40975-0b3b-4b17-ec2b-c06dc1983a62"
      },
      "source": [
        "# ordered labels\n",
        "run_randomForests(X_train_ordered, X_test_ordered, y_train_no_miss, y_test_no_miss)"
      ],
      "execution_count": 0,
      "outputs": [
        {
          "output_type": "stream",
          "text": [
            "Train set\n",
            "Random Forests roc-auc: 0.9036333100926552\n",
            "Test set\n",
            "Random Forests roc-auc: 0.906908849276737\n"
          ],
          "name": "stdout"
        }
      ]
    },
    {
      "cell_type": "code",
      "metadata": {
        "id": "-pgmvyck_Ozh",
        "colab_type": "code",
        "colab": {},
        "outputId": "2968427d-9183-439e-c695-76de7ac8ac97"
      },
      "source": [
        "# ordered labels\n",
        "run_logistic(X_train_ordered, X_test_ordered, y_train_no_miss, y_test_no_miss)"
      ],
      "execution_count": 0,
      "outputs": [
        {
          "output_type": "stream",
          "text": [
            "C:\\Users\\SAKET NANDAN\\AppData\\Roaming\\Python\\Python37\\site-packages\\sklearn\\linear_model\\_logistic.py:940: ConvergenceWarning: lbfgs failed to converge (status=1):\n",
            "STOP: TOTAL NO. of ITERATIONS REACHED LIMIT.\n",
            "\n",
            "Increase the number of iterations (max_iter) or scale the data as shown in:\n",
            "    https://scikit-learn.org/stable/modules/preprocessing.html\n",
            "Please also refer to the documentation for alternative solver options:\n",
            "    https://scikit-learn.org/stable/modules/linear_model.html#logistic-regression\n",
            "  extra_warning_msg=_LOGISTIC_SOLVER_CONVERGENCE_MSG)\n"
          ],
          "name": "stderr"
        },
        {
          "output_type": "stream",
          "text": [
            "Train set\n",
            "Logistic Regression roc-auc: 0.6727229814352725\n",
            "Test set\n",
            "Logistic Regression roc-auc: 0.6724947406259509\n"
          ],
          "name": "stdout"
        }
      ]
    },
    {
      "cell_type": "code",
      "metadata": {
        "id": "G3J1INuA_Ozk",
        "colab_type": "code",
        "colab": {}
      },
      "source": [
        "#so,here we can conclude that ordinal label integer encoding is giving good result in comparision to logistic reggression classification  "
      ],
      "execution_count": 0,
      "outputs": []
    },
    {
      "cell_type": "markdown",
      "metadata": {
        "id": "IgZJ7CmW_Ozn",
        "colab_type": "text"
      },
      "source": [
        "# ------------------------gaussian transformtion-------------------------------------"
      ]
    },
    {
      "cell_type": "markdown",
      "metadata": {
        "id": "hewumbq7_Ozo",
        "colab_type": "text"
      },
      "source": [
        "###### since, random forest is giving very high performance in comparission to logistic reggression , so here i will perform gaussian transformation by yeo johnson technique and check its impact on logistic reggression "
      ]
    },
    {
      "cell_type": "code",
      "metadata": {
        "id": "6pVpXa2U_Ozo",
        "colab_type": "code",
        "colab": {}
      },
      "source": [
        "import scipy.stats as stats\n",
        "from feature_engine import variable_transformers as vt\n",
        "import matplotlib.pyplot as plt"
      ],
      "execution_count": 0,
      "outputs": []
    },
    {
      "cell_type": "code",
      "metadata": {
        "id": "MM2ry5Nh_Ozs",
        "colab_type": "code",
        "colab": {}
      },
      "source": [
        "# plot the histograms to have a quick look at the variable distribution\n",
        "# histogram and Q-Q plots\n",
        "\n",
        "def diagnostic_plots(df, variable):\n",
        "    \n",
        "    # function to plot a histogram and a Q-Q plot\n",
        "    # side by side, for a certain variable\n",
        "    \n",
        "    plt.figure(figsize=(15,6))\n",
        "    plt.subplot(1, 2, 1)\n",
        "    df[variable].hist()\n",
        "\n",
        "    plt.subplot(1, 2, 2)\n",
        "    stats.probplot(df[variable], dist=\"norm\", plot=plt)\n",
        "\n",
        "    plt.show()"
      ],
      "execution_count": 0,
      "outputs": []
    },
    {
      "cell_type": "code",
      "metadata": {
        "id": "kyOBKizG_Ozv",
        "colab_type": "code",
        "colab": {},
        "outputId": "ffaa58fe-48bc-42aa-9cdf-bd55b6d5af09"
      },
      "source": [
        "#here i m checking for the normality of numerical values before encoding i applied , non of the numerical variable is normaly distributed \n",
        "for i in numerical:\n",
        "    diagnostic_plots(X_train_ordered, i)"
      ],
      "execution_count": 0,
      "outputs": [
        {
          "output_type": "display_data",
          "data": {
            "image/png": "[encoded data removed]",
            "text/plain": [
              "<Figure size 1080x432 with 2 Axes>"
            ]
          },
          "metadata": {
            "tags": [],
            "needs_background": "light"
          }
        },
        {
          "output_type": "display_data",
          "data": {
            "image/png": "[encoded data removed]",
            "text/plain": [
              "<Figure size 1080x432 with 2 Axes>"
            ]
          },
          "metadata": {
            "tags": [],
            "needs_background": "light"
          }
        },
        {
          "output_type": "display_data",
          "data": {
            "image/png": "[encoded data removed]",
            "text/plain": [
              "<Figure size 1080x432 with 2 Axes>"
            ]
          },
          "metadata": {
            "tags": [],
            "needs_background": "light"
          }
        },
        {
          "output_type": "display_data",
          "data": {
            "image/png": "[encoded data removed]",
            "text/plain": [
              "<Figure size 1080x432 with 2 Axes>"
            ]
          },
          "metadata": {
            "tags": [],
            "needs_background": "light"
          }
        },
        {
          "output_type": "display_data",
          "data": {
            "image/png": "[encoded data removed]",
            "text/plain": [
              "<Figure size 1080x432 with 2 Axes>"
            ]
          },
          "metadata": {
            "tags": [],
            "needs_background": "light"
          }
        },
        {
          "output_type": "display_data",
          "data": {
            "image/png": "[encoded data removed]",
            "text/plain": [
              "<Figure size 1080x432 with 2 Axes>"
            ]
          },
          "metadata": {
            "tags": [],
            "needs_background": "light"
          }
        },
        {
          "output_type": "display_data",
          "data": {
            "image/png": "[encoded data removed]",
            "text/plain": [
              "<Figure size 1080x432 with 2 Axes>"
            ]
          },
          "metadata": {
            "tags": [],
            "needs_background": "light"
          }
        },
        {
          "output_type": "display_data",
          "data": {
            "image/png": "[encoded data removed]",
            "text/plain": [
              "<Figure size 1080x432 with 2 Axes>"
            ]
          },
          "metadata": {
            "tags": [],
            "needs_background": "light"
          }
        },
        {
          "output_type": "display_data",
          "data": {
            "image/png": "[encoded data removed]",
            "text/plain": [
              "<Figure size 1080x432 with 2 Axes>"
            ]
          },
          "metadata": {
            "tags": [],
            "needs_background": "light"
          }
        },
        {
          "output_type": "display_data",
          "data": {
            "image/png": "[encoded data removed]",
            "text/plain": [
              "<Figure size 1080x432 with 2 Axes>"
            ]
          },
          "metadata": {
            "tags": [],
            "needs_background": "light"
          }
        },
        {
          "output_type": "display_data",
          "data": {
            "image/png": "[encoded data removed]",
            "text/plain": [
              "<Figure size 1080x432 with 2 Axes>"
            ]
          },
          "metadata": {
            "tags": [],
            "needs_background": "light"
          }
        },
        {
          "output_type": "display_data",
          "data": {
            "image/png": "[encoded data removed]",
            "text/plain": [
              "<Figure size 1080x432 with 2 Axes>"
            ]
          },
          "metadata": {
            "tags": [],
            "needs_background": "light"
          }
        },
        {
          "output_type": "display_data",
          "data": {
            "image/png": "[encoded data removed]",
            "text/plain": [
              "<Figure size 1080x432 with 2 Axes>"
            ]
          },
          "metadata": {
            "tags": [],
            "needs_background": "light"
          }
        },
        {
          "output_type": "display_data",
          "data": {
            "image/png": "[encoded data removed]",
            "text/plain": [
              "<Figure size 1080x432 with 2 Axes>"
            ]
          },
          "metadata": {
            "tags": [],
            "needs_background": "light"
          }
        },
        {
          "output_type": "display_data",
          "data": {
            "image/png": "[encoded data removed]",
            "text/plain": [
              "<Figure size 1080x432 with 2 Axes>"
            ]
          },
          "metadata": {
            "tags": [],
            "needs_background": "light"
          }
        }
      ]
    },
    {
      "cell_type": "code",
      "metadata": {
        "id": "A8n-TGTj_Ozz",
        "colab_type": "code",
        "colab": {}
      },
      "source": [
        "#so from above plots we can see that no column is persent in gaussian transformation "
      ],
      "execution_count": 0,
      "outputs": []
    },
    {
      "cell_type": "code",
      "metadata": {
        "id": "K5OabI0n_Oz4",
        "colab_type": "code",
        "colab": {},
        "outputId": "3c918f66-bd51-4c1c-b54e-773e8d231132"
      },
      "source": [
        "#here i have performed transformation on numerical varaible of the train data set only \n",
        "yjt = vt.YeoJohnsonTransformer(variables = numerical)\n",
        "yjt.fit(X_train_ordered)"
      ],
      "execution_count": 0,
      "outputs": [
        {
          "output_type": "execute_result",
          "data": {
            "text/plain": [
              "YeoJohnsonTransformer(variables=['national_inv', 'lead_time', 'in_transit_qty',\n",
              "                                 'forecast_3_month', 'forecast_6_month',\n",
              "                                 'forecast_9_month', 'sales_1_month',\n",
              "                                 'sales_3_month', 'sales_6_month',\n",
              "                                 'sales_9_month', 'min_bank', 'pieces_past_due',\n",
              "                                 'perf_6_month_avg', 'perf_12_month_avg',\n",
              "                                 'local_bo_qty'])"
            ]
          },
          "metadata": {
            "tags": []
          },
          "execution_count": 73
        }
      ]
    },
    {
      "cell_type": "code",
      "metadata": {
        "id": "cQItRbMY_Oz9",
        "colab_type": "code",
        "colab": {}
      },
      "source": [
        "X_train_ordered_GT = yjt.transform(X_train_ordered)\n",
        "X_test_ordered_GT=yjt.transform(X_test_ordered)"
      ],
      "execution_count": 0,
      "outputs": []
    },
    {
      "cell_type": "code",
      "metadata": {
        "id": "1PGfWWnR_O0A",
        "colab_type": "code",
        "colab": {}
      },
      "source": [
        "y_train=y_train_no_miss.copy()\n",
        "y_test=y_test_no_miss.copy()"
      ],
      "execution_count": 0,
      "outputs": []
    },
    {
      "cell_type": "code",
      "metadata": {
        "id": "l6TcR4Hr_O0C",
        "colab_type": "code",
        "colab": {},
        "outputId": "8945fefc-576f-4d18-f9b7-a55124bb6c73"
      },
      "source": [
        "#now we will run the random forest algo for numerical transformation only\n",
        "run_randomForests(X_train_ordered_GT,X_test_ordered_GT , y_train, y_test)"
      ],
      "execution_count": 0,
      "outputs": [
        {
          "output_type": "stream",
          "text": [
            "Train set\n",
            "Random Forests roc-auc: 0.9047962909923652\n",
            "Test set\n",
            "Random Forests roc-auc: 0.9079638913801975\n"
          ],
          "name": "stdout"
        }
      ]
    },
    {
      "cell_type": "markdown",
      "metadata": {
        "id": "_fiQ1ZcB_O0F",
        "colab_type": "text"
      },
      "source": [
        "##### if we see the after numerical transformation roc_auc has increased by .001 in case of random forest "
      ]
    },
    {
      "cell_type": "code",
      "metadata": {
        "id": "6P16X9zb_O0G",
        "colab_type": "code",
        "colab": {},
        "outputId": "3a215d29-26ea-4a15-e142-b9c058d140ab"
      },
      "source": [
        "# now we will run the losgistic regression algo for numerical variable  transformation only\n",
        "run_logistic(X_train_ordered_GT,X_test_ordered_GT, y_train, y_test)"
      ],
      "execution_count": 0,
      "outputs": [
        {
          "output_type": "stream",
          "text": [
            "C:\\Users\\SAKET NANDAN\\AppData\\Roaming\\Python\\Python37\\site-packages\\sklearn\\linear_model\\_logistic.py:940: ConvergenceWarning: lbfgs failed to converge (status=1):\n",
            "STOP: TOTAL NO. of ITERATIONS REACHED LIMIT.\n",
            "\n",
            "Increase the number of iterations (max_iter) or scale the data as shown in:\n",
            "    https://scikit-learn.org/stable/modules/preprocessing.html\n",
            "Please also refer to the documentation for alternative solver options:\n",
            "    https://scikit-learn.org/stable/modules/linear_model.html#logistic-regression\n",
            "  extra_warning_msg=_LOGISTIC_SOLVER_CONVERGENCE_MSG)\n"
          ],
          "name": "stderr"
        },
        {
          "output_type": "stream",
          "text": [
            "Train set\n",
            "Logistic Regression roc-auc: 0.8337008433211422\n",
            "Test set\n",
            "Logistic Regression roc-auc: 0.8327006290852212\n"
          ],
          "name": "stdout"
        }
      ]
    },
    {
      "cell_type": "markdown",
      "metadata": {
        "id": "sSxcUSTL_O0L",
        "colab_type": "text"
      },
      "source": [
        "###### if we see after numerical transformation logistic reggression roc_auc hike is too good it increased from .67 to .83 "
      ]
    },
    {
      "cell_type": "markdown",
      "metadata": {
        "id": "2_WH_97s_O0M",
        "colab_type": "text"
      },
      "source": [
        "# -----------------------------------------descritisation--------------------------------------------"
      ]
    },
    {
      "cell_type": "markdown",
      "metadata": {
        "id": "jSXFWaWL_O0N",
        "colab_type": "text"
      },
      "source": [
        "#### here i m performing two types descritisation one is supervised and other is unsupervised\n"
      ]
    },
    {
      "cell_type": "markdown",
      "metadata": {
        "id": "EwmL9goZ_O0Q",
        "colab_type": "text"
      },
      "source": [
        "#### in supervised i m taking equal width descritisation (useful in  tree based model genrally but we should analyse before blindely applying)\n"
      ]
    },
    {
      "cell_type": "markdown",
      "metadata": {
        "id": "HKw6B-Sy_O0R",
        "colab_type": "text"
      },
      "source": [
        "#### in unsupervised i m taking decision tree descritisation (useful for regression types generally but we should analyse before blindely applying )"
      ]
    },
    {
      "cell_type": "markdown",
      "metadata": {
        "id": "QuuhSuqr_O0R",
        "colab_type": "text"
      },
      "source": [
        "## equal width decritisation"
      ]
    },
    {
      "cell_type": "code",
      "metadata": {
        "id": "2woTKEf8_O0S",
        "colab_type": "code",
        "colab": {}
      },
      "source": [
        "from feature_engine.discretisers import EqualWidthDiscretiser"
      ],
      "execution_count": 0,
      "outputs": []
    },
    {
      "cell_type": "code",
      "metadata": {
        "id": "QWIUeu0D_O0U",
        "colab_type": "code",
        "colab": {}
      },
      "source": [
        "#here i m performing discretisation for only numericals columns\n",
        "\n",
        "disc = EqualWidthDiscretiser(bins=10, variables = numerical)"
      ],
      "execution_count": 0,
      "outputs": []
    },
    {
      "cell_type": "code",
      "metadata": {
        "id": "59yXrKU1_O0d",
        "colab_type": "code",
        "colab": {},
        "outputId": "0defc722-06b4-426c-e688-7f15e78c1896"
      },
      "source": [
        "disc.fit(X_train_ordered_GT)"
      ],
      "execution_count": 0,
      "outputs": [
        {
          "output_type": "execute_result",
          "data": {
            "text/plain": [
              "EqualWidthDiscretiser(bins=10, return_object=False,\n",
              "                      variables=['national_inv', 'lead_time', 'in_transit_qty',\n",
              "                                 'forecast_3_month', 'forecast_6_month',\n",
              "                                 'forecast_9_month', 'sales_1_month',\n",
              "                                 'sales_3_month', 'sales_6_month',\n",
              "                                 'sales_9_month', 'min_bank', 'pieces_past_due',\n",
              "                                 'perf_6_month_avg', 'perf_12_month_avg',\n",
              "                                 'local_bo_qty'])"
            ]
          },
          "metadata": {
            "tags": []
          },
          "execution_count": 80
        }
      ]
    },
    {
      "cell_type": "code",
      "metadata": {
        "id": "s1QWFQji_O0i",
        "colab_type": "code",
        "colab": {}
      },
      "source": [
        "# transform train and text\n",
        "\n",
        "X_train_ordered_GT_des_eq = disc.transform(X_train_ordered_GT)\n",
        "X_test_ordered_GT_des_eq = disc.transform(X_test_ordered_GT)"
      ],
      "execution_count": 0,
      "outputs": []
    },
    {
      "cell_type": "code",
      "metadata": {
        "id": "Ev2a-1q8_O0o",
        "colab_type": "code",
        "colab": {}
      },
      "source": [
        "import matplotlib.pyplot as plt"
      ],
      "execution_count": 0,
      "outputs": []
    },
    {
      "cell_type": "code",
      "metadata": {
        "id": "lpKKB9Ki_O0q",
        "colab_type": "code",
        "colab": {},
        "outputId": "4d8c6811-f3cd-409d-e4f1-24d0e024e4a2"
      },
      "source": [
        "for i in numerical:\n",
        "    t1 = X_train_ordered_GT_des_eq.groupby([i])[i].count() / len(X_train_ordered_GT_des_eq)\n",
        "    t2 = X_test_ordered_GT_des_eq.groupby([i])[i].count() / len(X_test_ordered_GT_des_eq)\n",
        "\n",
        "    tmp = pd.concat([t1, t2], axis=1)\n",
        "    tmp.columns = ['train', 'test']\n",
        "    tmp.plot.bar()\n",
        "    plt.xticks(rotation=0)\n",
        "    plt.ylabel('Number of observations per bin')"
      ],
      "execution_count": 0,
      "outputs": [
        {
          "output_type": "display_data",
          "data": {
            "image/png": "[encoded data removed]",
            "text/plain": [
              "<Figure size 432x288 with 1 Axes>"
            ]
          },
          "metadata": {
            "tags": [],
            "needs_background": "light"
          }
        },
        {
          "output_type": "display_data",
          "data": {
            "image/png": "[encoded data removed]",
            "text/plain": [
              "<Figure size 432x288 with 1 Axes>"
            ]
          },
          "metadata": {
            "tags": [],
            "needs_background": "light"
          }
        },
        {
          "output_type": "display_data",
          "data": {
            "image/png": "[encoded data removed]",
            "text/plain": [
              "<Figure size 432x288 with 1 Axes>"
            ]
          },
          "metadata": {
            "tags": [],
            "needs_background": "light"
          }
        },
        {
          "output_type": "display_data",
          "data": {
            "image/png": "[encoded data removed]",
            "text/plain": [
              "<Figure size 432x288 with 1 Axes>"
            ]
          },
          "metadata": {
            "tags": [],
            "needs_background": "light"
          }
        },
        {
          "output_type": "display_data",
          "data": {
            "image/png": "[encoded data removed]",
            "text/plain": [
              "<Figure size 432x288 with 1 Axes>"
            ]
          },
          "metadata": {
            "tags": [],
            "needs_background": "light"
          }
        },
        {
          "output_type": "display_data",
          "data": {
            "image/png": "[encoded data removed]",
            "text/plain": [
              "<Figure size 432x288 with 1 Axes>"
            ]
          },
          "metadata": {
            "tags": [],
            "needs_background": "light"
          }
        },
        {
          "output_type": "display_data",
          "data": {
            "image/png": "[encoded data removed]",
            "text/plain": [
              "<Figure size 432x288 with 1 Axes>"
            ]
          },
          "metadata": {
            "tags": [],
            "needs_background": "light"
          }
        },
        {
          "output_type": "display_data",
          "data": {
            "image/png": "[encoded data removed]",
            "text/plain": [
              "<Figure size 432x288 with 1 Axes>"
            ]
          },
          "metadata": {
            "tags": [],
            "needs_background": "light"
          }
        },
        {
          "output_type": "display_data",
          "data": {
            "image/png": "[encoded data removed]",
            "text/plain": [
              "<Figure size 432x288 with 1 Axes>"
            ]
          },
          "metadata": {
            "tags": [],
            "needs_background": "light"
          }
        },
        {
          "output_type": "display_data",
          "data": {
            "image/png": "[encoded data removed]",
            "text/plain": [
              "<Figure size 432x288 with 1 Axes>"
            ]
          },
          "metadata": {
            "tags": [],
            "needs_background": "light"
          }
        },
        {
          "output_type": "display_data",
          "data": {
            "image/png": "[encoded data removed]",
            "text/plain": [
              "<Figure size 432x288 with 1 Axes>"
            ]
          },
          "metadata": {
            "tags": [],
            "needs_background": "light"
          }
        },
        {
          "output_type": "display_data",
          "data": {
            "image/png": "[encoded data removed]",
            "text/plain": [
              "<Figure size 432x288 with 1 Axes>"
            ]
          },
          "metadata": {
            "tags": [],
            "needs_background": "light"
          }
        },
        {
          "output_type": "display_data",
          "data": {
            "image/png": "[encoded data removed]",
            "text/plain": [
              "<Figure size 432x288 with 1 Axes>"
            ]
          },
          "metadata": {
            "tags": [],
            "needs_background": "light"
          }
        },
        {
          "output_type": "display_data",
          "data": {
            "image/png": "[encoded data removed]",
            "text/plain": [
              "<Figure size 432x288 with 1 Axes>"
            ]
          },
          "metadata": {
            "tags": [],
            "needs_background": "light"
          }
        },
        {
          "output_type": "display_data",
          "data": {
            "image/png": "[encoded data removed]",
            "text/plain": [
              "<Figure size 432x288 with 1 Axes>"
            ]
          },
          "metadata": {
            "tags": [],
            "needs_background": "light"
          }
        }
      ]
    },
    {
      "cell_type": "markdown",
      "metadata": {
        "id": "3KXkEDLc_O0w",
        "colab_type": "text"
      },
      "source": [
        "## descretisation with decision tree"
      ]
    },
    {
      "cell_type": "code",
      "metadata": {
        "id": "UGVam_sx_O0w",
        "colab_type": "code",
        "colab": {}
      },
      "source": [
        "from feature_engine.discretisers import DecisionTreeDiscretiser"
      ],
      "execution_count": 0,
      "outputs": []
    },
    {
      "cell_type": "code",
      "metadata": {
        "id": "U00BnsyQ_O01",
        "colab_type": "code",
        "colab": {},
        "outputId": "4f90d674-53a4-4d11-bf99-c69efbca9854"
      },
      "source": [
        "#set up the decision tree discretiser indicating:\n",
        "# cross-validation number (cv)\n",
        "# how to evaluate model performance (scoring)\n",
        "# the variables we want to discretise (variables)\n",
        "# whether it is a target for regression or classification\n",
        "# and the grid with the parameters we want to test\n",
        "\n",
        "treeDisc = DecisionTreeDiscretiser(cv=3, scoring='accuracy',\n",
        "                                   variables=numerical,\n",
        "                                   regression=False,\n",
        "                                   param_grid={'max_depth': [ 2, 3],\n",
        "                                              'min_samples_leaf':[10,4]})\n",
        "\n",
        "treeDisc.fit(X_train_ordered_GT, y_train)"
      ],
      "execution_count": 0,
      "outputs": [
        {
          "output_type": "execute_result",
          "data": {
            "text/plain": [
              "DecisionTreeDiscretiser(cv=3,\n",
              "                        param_grid={'max_depth': [2, 3],\n",
              "                                    'min_samples_leaf': [10, 4]},\n",
              "                        random_state=None, regression=False, scoring='accuracy',\n",
              "                        variables=['national_inv', 'lead_time',\n",
              "                                   'in_transit_qty', 'forecast_3_month',\n",
              "                                   'forecast_6_month', 'forecast_9_month',\n",
              "                                   'sales_1_month', 'sales_3_month',\n",
              "                                   'sales_6_month', 'sales_9_month', 'min_bank',\n",
              "                                   'pieces_past_due', 'perf_6_month_avg',\n",
              "                                   'perf_12_month_avg', 'local_bo_qty'])"
            ]
          },
          "metadata": {
            "tags": []
          },
          "execution_count": 91
        }
      ]
    },
    {
      "cell_type": "code",
      "metadata": {
        "id": "h4u2_UR0_O04",
        "colab_type": "code",
        "colab": {}
      },
      "source": [
        "# let's transform the data\n",
        "\n",
        "X_train_ordered_GT_des_t = treeDisc.transform(X_train_ordered_GT)\n",
        "X_test_ordered_GT_des_t = treeDisc.transform(X_test_ordered_GT)\n"
      ],
      "execution_count": 0,
      "outputs": []
    },
    {
      "cell_type": "code",
      "metadata": {
        "id": "KLvD6UKc_O09",
        "colab_type": "code",
        "colab": {},
        "outputId": "91ed91b6-afdb-4291-cc01-8241625817d7"
      },
      "source": [
        "for i in numerical:\n",
        "    t1 = X_train_ordered_GT_des_t.groupby([i])[i].count() / len(X_train_ordered_GT_des_t)\n",
        "    t2 = X_test_ordered_GT_des_t.groupby([i])[i].count() / len(X_test_ordered_GT_des_t)\n",
        "\n",
        "    tmp = pd.concat([t1, t2], axis=1)\n",
        "    tmp.columns = ['train', 'test']\n",
        "    tmp.plot.bar()\n",
        "    plt.xticks(rotation=0)\n",
        "    plt.ylabel('Number of observations per bin')"
      ],
      "execution_count": 0,
      "outputs": [
        {
          "output_type": "display_data",
          "data": {
            "image/png": "[encoded data removed]",
            "text/plain": [
              "<Figure size 432x288 with 1 Axes>"
            ]
          },
          "metadata": {
            "tags": [],
            "needs_background": "light"
          }
        },
        {
          "output_type": "display_data",
          "data": {
            "image/png": "[encoded data removed]",
            "text/plain": [
              "<Figure size 432x288 with 1 Axes>"
            ]
          },
          "metadata": {
            "tags": [],
            "needs_background": "light"
          }
        },
        {
          "output_type": "display_data",
          "data": {
            "image/png": "[encoded data removed]",
            "text/plain": [
              "<Figure size 432x288 with 1 Axes>"
            ]
          },
          "metadata": {
            "tags": [],
            "needs_background": "light"
          }
        },
        {
          "output_type": "display_data",
          "data": {
            "image/png": "[encoded data removed]",
            "text/plain": [
              "<Figure size 432x288 with 1 Axes>"
            ]
          },
          "metadata": {
            "tags": [],
            "needs_background": "light"
          }
        },
        {
          "output_type": "display_data",
          "data": {
            "image/png": "[encoded data removed]",
            "text/plain": [
              "<Figure size 432x288 with 1 Axes>"
            ]
          },
          "metadata": {
            "tags": [],
            "needs_background": "light"
          }
        },
        {
          "output_type": "display_data",
          "data": {
            "image/png": "[encoded data removed]",
            "text/plain": [
              "<Figure size 432x288 with 1 Axes>"
            ]
          },
          "metadata": {
            "tags": [],
            "needs_background": "light"
          }
        },
        {
          "output_type": "display_data",
          "data": {
            "image/png": "[encoded data removed]",
            "text/plain": [
              "<Figure size 432x288 with 1 Axes>"
            ]
          },
          "metadata": {
            "tags": [],
            "needs_background": "light"
          }
        },
        {
          "output_type": "display_data",
          "data": {
            "image/png": "[encoded data removed]",
            "text/plain": [
              "<Figure size 432x288 with 1 Axes>"
            ]
          },
          "metadata": {
            "tags": [],
            "needs_background": "light"
          }
        },
        {
          "output_type": "display_data",
          "data": {
            "image/png": "[encoded data removed]",
            "text/plain": [
              "<Figure size 432x288 with 1 Axes>"
            ]
          },
          "metadata": {
            "tags": [],
            "needs_background": "light"
          }
        },
        {
          "output_type": "display_data",
          "data": {
            "image/png": "[encoded data removed]",
            "text/plain": [
              "<Figure size 432x288 with 1 Axes>"
            ]
          },
          "metadata": {
            "tags": [],
            "needs_background": "light"
          }
        },
        {
          "output_type": "display_data",
          "data": {
            "image/png": "[encoded data removed]",
            "text/plain": [
              "<Figure size 432x288 with 1 Axes>"
            ]
          },
          "metadata": {
            "tags": [],
            "needs_background": "light"
          }
        },
        {
          "output_type": "display_data",
          "data": {
            "image/png": "[encoded data removed]",
            "text/plain": [
              "<Figure size 432x288 with 1 Axes>"
            ]
          },
          "metadata": {
            "tags": [],
            "needs_background": "light"
          }
        },
        {
          "output_type": "display_data",
          "data": {
            "image/png": "[encoded data removed]",
            "text/plain": [
              "<Figure size 432x288 with 1 Axes>"
            ]
          },
          "metadata": {
            "tags": [],
            "needs_background": "light"
          }
        },
        {
          "output_type": "display_data",
          "data": {
            "image/png": "[encoded data removed]",
            "text/plain": [
              "<Figure size 432x288 with 1 Axes>"
            ]
          },
          "metadata": {
            "tags": [],
            "needs_background": "light"
          }
        },
        {
          "output_type": "display_data",
          "data": {
            "image/png": "[encoded data removed]",
            "text/plain": [
              "<Figure size 432x288 with 1 Axes>"
            ]
          },
          "metadata": {
            "tags": [],
            "needs_background": "light"
          }
        }
      ]
    },
    {
      "cell_type": "markdown",
      "metadata": {
        "id": "oFYqWzre_O1D",
        "colab_type": "text"
      },
      "source": [
        "### now checking performence for equal width descritisation and descision tree descritisation by both random forest and logistic reggression"
      ]
    },
    {
      "cell_type": "code",
      "metadata": {
        "id": "GtfG7BXt_O1D",
        "colab_type": "code",
        "colab": {},
        "outputId": "40b5f297-e9ff-4ed4-c25b-6dfe14aa1be7"
      },
      "source": [
        "#random forest with euql descritisation \n",
        "run_randomForests(X_train_ordered_GT_des_eq,X_test_ordered_GT_des_eq, y_train, y_test)"
      ],
      "execution_count": 0,
      "outputs": [
        {
          "output_type": "stream",
          "text": [
            "Train set\n",
            "Random Forests roc-auc: 0.8788173414694583\n",
            "Test set\n",
            "Random Forests roc-auc: 0.8805739995521561\n"
          ],
          "name": "stdout"
        }
      ]
    },
    {
      "cell_type": "code",
      "metadata": {
        "id": "vK7KonCu_O1F",
        "colab_type": "code",
        "colab": {},
        "outputId": "f3b52141-0adf-4f73-8bd7-b77163511b13"
      },
      "source": [
        "#logistic reggression  with euql descritisation \n",
        "run_logistic(X_train_ordered_GT_des_eq,X_test_ordered_GT_des_eq, y_train, y_test)"
      ],
      "execution_count": 0,
      "outputs": [
        {
          "output_type": "stream",
          "text": [
            "C:\\Users\\SAKET NANDAN\\AppData\\Roaming\\Python\\Python37\\site-packages\\sklearn\\linear_model\\_logistic.py:940: ConvergenceWarning: lbfgs failed to converge (status=1):\n",
            "STOP: TOTAL NO. of ITERATIONS REACHED LIMIT.\n",
            "\n",
            "Increase the number of iterations (max_iter) or scale the data as shown in:\n",
            "    https://scikit-learn.org/stable/modules/preprocessing.html\n",
            "Please also refer to the documentation for alternative solver options:\n",
            "    https://scikit-learn.org/stable/modules/linear_model.html#logistic-regression\n",
            "  extra_warning_msg=_LOGISTIC_SOLVER_CONVERGENCE_MSG)\n"
          ],
          "name": "stderr"
        },
        {
          "output_type": "stream",
          "text": [
            "Train set\n",
            "Logistic Regression roc-auc: 0.8663994289992489\n",
            "Test set\n",
            "Logistic Regression roc-auc: 0.8687898779161379\n"
          ],
          "name": "stdout"
        }
      ]
    },
    {
      "cell_type": "markdown",
      "metadata": {
        "id": "7FiW5GWx_O1I",
        "colab_type": "text"
      },
      "source": [
        "###### there is hike .83 to .86"
      ]
    },
    {
      "cell_type": "code",
      "metadata": {
        "id": "aadAit7h_O1I",
        "colab_type": "code",
        "colab": {},
        "outputId": "6c4dad6f-f5c1-477f-d12d-024e22479792"
      },
      "source": [
        "#random forest with descision tree descritisation \n",
        "run_randomForests(X_train_ordered_GT_des_t,X_test_ordered_GT_des_t, y_train, y_test)"
      ],
      "execution_count": 0,
      "outputs": [
        {
          "output_type": "stream",
          "text": [
            "Train set\n",
            "Random Forests roc-auc: 0.8976894522505969\n",
            "Test set\n",
            "Random Forests roc-auc: 0.9011726800982918\n"
          ],
          "name": "stdout"
        }
      ]
    },
    {
      "cell_type": "code",
      "metadata": {
        "id": "n9M-u6qn_O1L",
        "colab_type": "code",
        "colab": {}
      },
      "source": [
        ""
      ],
      "execution_count": 0,
      "outputs": []
    },
    {
      "cell_type": "code",
      "metadata": {
        "id": "PENc8RxG_O1N",
        "colab_type": "code",
        "colab": {},
        "outputId": "307c7890-6649-4209-b63a-1565d1288075"
      },
      "source": [
        "#logistic reggression with descision tree descritisation \n",
        "run_logistic(X_train_ordered_GT_des_t,X_test_ordered_GT_des_t, y_train, y_test)"
      ],
      "execution_count": 0,
      "outputs": [
        {
          "output_type": "stream",
          "text": [
            "Train set\n",
            "Logistic Regression roc-auc: 0.749987754971364\n",
            "Test set\n",
            "Logistic Regression roc-auc: 0.7527620496337115\n"
          ],
          "name": "stdout"
        }
      ]
    },
    {
      "cell_type": "markdown",
      "metadata": {
        "id": "-xWn7RFz_O1P",
        "colab_type": "text"
      },
      "source": [
        "###### roc_Auc value reduced in case of tree based decritisaon "
      ]
    },
    {
      "cell_type": "markdown",
      "metadata": {
        "id": "ik_6GX1e_O1Q",
        "colab_type": "text"
      },
      "source": [
        "### so, we can conclude that our performence has dropped after descritisation and also equal bin descritisation is not suitable for tree based algorithm "
      ]
    },
    {
      "cell_type": "markdown",
      "metadata": {
        "id": "rb6Lu0Jw_O1Q",
        "colab_type": "text"
      },
      "source": [
        "# -----------------------------------------------scaling---------------------------------------------------\n"
      ]
    },
    {
      "cell_type": "code",
      "metadata": {
        "id": "mTrK9nPj_O1R",
        "colab_type": "code",
        "colab": {}
      },
      "source": [
        "# the scaler - for standardisation\n",
        "from sklearn.preprocessing import StandardScaler"
      ],
      "execution_count": 0,
      "outputs": []
    },
    {
      "cell_type": "code",
      "metadata": {
        "id": "7FFEaRXU_O1T",
        "colab_type": "code",
        "colab": {},
        "outputId": "2947ff74-fe68-4f3f-ed67-05f1b0069a96"
      },
      "source": [
        "#standardisation: with the StandardScaler from sklearn\n",
        "\n",
        "# set up the scaler\n",
        "scaler = StandardScaler()\n",
        "# fit the scaler to the train set, it will learn the parameters\n",
        "scaler.fit(X_train_ordered_GT_des_t)"
      ],
      "execution_count": 0,
      "outputs": [
        {
          "output_type": "execute_result",
          "data": {
            "text/plain": [
              "StandardScaler(copy=True, with_mean=True, with_std=True)"
            ]
          },
          "metadata": {
            "tags": []
          },
          "execution_count": 102
        }
      ]
    },
    {
      "cell_type": "code",
      "metadata": {
        "id": "JNP1hYuU_O1Y",
        "colab_type": "code",
        "colab": {}
      },
      "source": [
        "X_train_ordered_GT_des_t_scaled = scaler.transform(X_train_ordered_GT_des_t)\n",
        "X_test_ordered_GT_des_t_scaled = scaler.transform(X_test_ordered_GT_des_t)"
      ],
      "execution_count": 0,
      "outputs": []
    },
    {
      "cell_type": "markdown",
      "metadata": {
        "id": "O7KpzLvJ_O1b",
        "colab_type": "text"
      },
      "source": [
        "#### here i m performing standarization on decsion tree descritized data and checking impact on logistic and random forest algo"
      ]
    },
    {
      "cell_type": "code",
      "metadata": {
        "id": "2hA4fyTW_O1c",
        "colab_type": "code",
        "colab": {},
        "outputId": "5f4022c1-bbf2-41bd-f132-8a349ca3df4c"
      },
      "source": [
        "#random forest with decision tree descritisation in succession scaling\n",
        "run_randomForests(X_train_ordered_GT_des_t_scaled,X_test_ordered_GT_des_t_scaled, y_train, y_test)"
      ],
      "execution_count": 0,
      "outputs": [
        {
          "output_type": "stream",
          "text": [
            "Train set\n",
            "Random Forests roc-auc: 0.8976894522505969\n",
            "Test set\n",
            "Random Forests roc-auc: 0.9011726800982918\n"
          ],
          "name": "stdout"
        }
      ]
    },
    {
      "cell_type": "code",
      "metadata": {
        "id": "rOViSvlk_O1e",
        "colab_type": "code",
        "colab": {},
        "outputId": "6513494e-81df-4f72-9a3a-de036bcfacc0"
      },
      "source": [
        "#logistic reggression  with decision tree descritisation in succession scaling\n",
        "run_logistic(X_train_ordered_GT_des_t_scaled,X_test_ordered_GT_des_t_scaled, y_train, y_test)"
      ],
      "execution_count": 0,
      "outputs": [
        {
          "output_type": "stream",
          "text": [
            "Train set\n",
            "Logistic Regression roc-auc: 0.884714677025786\n",
            "Test set\n",
            "Logistic Regression roc-auc: 0.8866509040299422\n"
          ],
          "name": "stdout"
        }
      ]
    },
    {
      "cell_type": "markdown",
      "metadata": {
        "id": "GFzfWtHK_O1i",
        "colab_type": "text"
      },
      "source": [
        "###### so, if we see the result of scaling followed by tree based descritisation then we can say that in both tree based and non tree based algo roc_auc has increased "
      ]
    },
    {
      "cell_type": "markdown",
      "metadata": {
        "id": "w0YfJted_O1i",
        "colab_type": "text"
      },
      "source": [
        "## scaling after eq descritisation "
      ]
    },
    {
      "cell_type": "code",
      "metadata": {
        "id": "6D4K2QeY_O1j",
        "colab_type": "code",
        "colab": {},
        "outputId": "c6fe3a5e-de9f-4390-cf09-e7b2be46d8e5"
      },
      "source": [
        "scaler.fit(X_train_ordered_GT_des_eq)"
      ],
      "execution_count": 0,
      "outputs": [
        {
          "output_type": "execute_result",
          "data": {
            "text/plain": [
              "StandardScaler(copy=True, with_mean=True, with_std=True)"
            ]
          },
          "metadata": {
            "tags": []
          },
          "execution_count": 107
        }
      ]
    },
    {
      "cell_type": "code",
      "metadata": {
        "id": "yCtnYYw0_O1m",
        "colab_type": "code",
        "colab": {}
      },
      "source": [
        "X_train_ordered_GT_des_eq_scaled = scaler.transform(X_train_ordered_GT_des_eq)\n",
        "X_test_ordered_GT_des_eq_scaled = scaler.transform(X_test_ordered_GT_des_eq)"
      ],
      "execution_count": 0,
      "outputs": []
    },
    {
      "cell_type": "markdown",
      "metadata": {
        "id": "IGhGoeBE_O1q",
        "colab_type": "text"
      },
      "source": [
        "#### here ,i have standarization on eq descritized data and checking impact on logistic and random forest algo"
      ]
    },
    {
      "cell_type": "code",
      "metadata": {
        "id": "GclROm-A_O1r",
        "colab_type": "code",
        "colab": {},
        "outputId": "d8ca2a18-c6d0-48e3-f232-cb7739762e45"
      },
      "source": [
        "#random forest with eq descritisation in succession scaling\n",
        "run_randomForests(X_train_ordered_GT_des_eq_scaled,X_test_ordered_GT_des_eq_scaled, y_train, y_test)"
      ],
      "execution_count": 0,
      "outputs": [
        {
          "output_type": "stream",
          "text": [
            "Train set\n",
            "Random Forests roc-auc: 0.8788173414694583\n",
            "Test set\n",
            "Random Forests roc-auc: 0.8805739995521561\n"
          ],
          "name": "stdout"
        }
      ]
    },
    {
      "cell_type": "code",
      "metadata": {
        "id": "Gr645w1-_O1w",
        "colab_type": "code",
        "colab": {},
        "outputId": "8661a82d-3af8-48b0-999b-a1400c005558"
      },
      "source": [
        "#logistic reggression  with eq descritisation in succession scaling\n",
        "run_logistic(X_train_ordered_GT_des_eq_scaled,X_test_ordered_GT_des_eq_scaled, y_train, y_test)"
      ],
      "execution_count": 0,
      "outputs": [
        {
          "output_type": "stream",
          "text": [
            "Train set\n",
            "Logistic Regression roc-auc: 0.8667577280416642\n",
            "Test set\n",
            "Logistic Regression roc-auc: 0.8686966627291479\n"
          ],
          "name": "stdout"
        }
      ]
    },
    {
      "cell_type": "markdown",
      "metadata": {
        "id": "GDR6iHe5_O11",
        "colab_type": "text"
      },
      "source": [
        "###### if we see the ablove result then we can conclude that eq descritisation has decresed the roc_auc value for both the result , so we will use tree based descritisation for modeling "
      ]
    },
    {
      "cell_type": "markdown",
      "metadata": {
        "id": "nVS1YLmZ_O12",
        "colab_type": "text"
      },
      "source": [
        "# ------------------------------------ Feature Selection------------------------------------------------- "
      ]
    },
    {
      "cell_type": "code",
      "metadata": {
        "id": "oWWRxuiB_O12",
        "colab_type": "code",
        "colab": {}
      },
      "source": [
        "from sklearn.feature_selection import VarianceThreshold\n",
        "from sklearn.tree import DecisionTreeClassifier\n",
        "from sklearn.feature_selection import SelectFromModel"
      ],
      "execution_count": 0,
      "outputs": []
    },
    {
      "cell_type": "code",
      "metadata": {
        "id": "aIoVmwrN_O14",
        "colab_type": "code",
        "colab": {}
      },
      "source": [
        "X_train=X_train_ordered_GT_des_t.copy()\n",
        "X_test=X_test_ordered_GT_des_t.copy()\n",
        "y_train=y_train.copy()\n",
        "y_test=y_test.copy()"
      ],
      "execution_count": 0,
      "outputs": []
    },
    {
      "cell_type": "code",
      "metadata": {
        "id": "uEIToCfg_O17",
        "colab_type": "code",
        "colab": {}
      },
      "source": [
        "# I keep a copy of the dataset with all the variables\n",
        "# to measure the performance of machine learning models\n",
        "# at the end of the notebook\n",
        "X_train_original = X_train.copy()\n",
        "X_test_original = X_test.copy()"
      ],
      "execution_count": 0,
      "outputs": []
    },
    {
      "cell_type": "markdown",
      "metadata": {
        "id": "6fjFuBqz_O19",
        "colab_type": "text"
      },
      "source": [
        "## Remove constant features"
      ]
    },
    {
      "cell_type": "code",
      "metadata": {
        "id": "bfjnrC0W_O1-",
        "colab_type": "code",
        "colab": {},
        "outputId": "acce6752-85ad-4aac-8e0c-68280a336fe2"
      },
      "source": [
        "#before removing constatnt features\n",
        "X_train.shape,X_test.shape"
      ],
      "execution_count": 0,
      "outputs": [
        {
          "output_type": "execute_result",
          "data": {
            "text/plain": [
              "((1181502, 21), (506358, 21))"
            ]
          },
          "metadata": {
            "tags": []
          },
          "execution_count": 127
        }
      ]
    },
    {
      "cell_type": "code",
      "metadata": {
        "id": "U0rQZdRO_O2G",
        "colab_type": "code",
        "colab": {},
        "outputId": "8bc7895e-fca8-4d10-9ef5-ae7946f430b0"
      },
      "source": [
        "# remove constant features\n",
        "constant_features = [\n",
        "    feat for feat in X_train.columns if X_train[feat].std() == 0\n",
        "]\n",
        " \n",
        "X_train.drop(labels=constant_features, axis=1, inplace=True)\n",
        "X_test.drop(labels=constant_features, axis=1, inplace=True)\n",
        " \n",
        "X_train.shape, X_test.shape"
      ],
      "execution_count": 0,
      "outputs": [
        {
          "output_type": "execute_result",
          "data": {
            "text/plain": [
              "((1181502, 21), (506358, 21))"
            ]
          },
          "metadata": {
            "tags": []
          },
          "execution_count": 128
        }
      ]
    },
    {
      "cell_type": "markdown",
      "metadata": {
        "id": "r3Npx6Wc_O2J",
        "colab_type": "text"
      },
      "source": [
        "## Remove quasi-constant features"
      ]
    },
    {
      "cell_type": "markdown",
      "metadata": {
        "id": "54lZDJWQ_O2L",
        "colab_type": "text"
      },
      "source": [
        "###### i made it as comment , because when i applied quasi-cnstant feature selection then it removed total 17 features and returned only 4 features which i implemented for random forest's feature selection method then we remained with only one features which were giving very less roc_auc value  0.60 for both train and test , so i made it comment (removed this step from feature selection)"
      ]
    },
    {
      "cell_type": "code",
      "metadata": {
        "id": "g0F7AHkV_O2L",
        "colab_type": "code",
        "colab": {}
      },
      "source": [
        "# remove quasi-constant features\n",
        "#sel = VarianceThreshold(\n",
        "#    threshold=0.01)  # 0.1 indicates 99% of observations approximately\n",
        " \n",
        "#sel.fit(X_train)  # fit finds the features with low variance\n",
        " \n",
        "#sum(sel.get_support()) # how many not quasi-constant?"
      ],
      "execution_count": 0,
      "outputs": []
    },
    {
      "cell_type": "code",
      "metadata": {
        "id": "wJ7IumRL_O2O",
        "colab_type": "code",
        "colab": {}
      },
      "source": [
        "#features_to_keep = X_train.columns[sel.get_support()]"
      ],
      "execution_count": 0,
      "outputs": []
    },
    {
      "cell_type": "code",
      "metadata": {
        "id": "THrps0Ac_O2Q",
        "colab_type": "code",
        "colab": {}
      },
      "source": [
        "# we can then remove the features like this\n",
        "#X_train = sel.transform(X_train)\n",
        "#X_test = sel.transform(X_test)\n",
        " \n",
        "#X_train.shape, X_test.shape"
      ],
      "execution_count": 0,
      "outputs": []
    },
    {
      "cell_type": "code",
      "metadata": {
        "id": "X1H7MljJ_O2U",
        "colab_type": "code",
        "colab": {}
      },
      "source": [
        "# sklearn transformations lead to numpy arrays\n",
        "# here I transform the arrays back to dataframes\n",
        "# please be mindful of getting the columns assigned\n",
        "# correctly\n",
        " \n",
        "#X_train= pd.DataFrame(X_train)\n",
        "#X_train.columns = features_to_keep\n",
        " \n",
        "#X_test= pd.DataFrame(X_test)\n",
        "#X_test.columns = features_to_keep"
      ],
      "execution_count": 0,
      "outputs": []
    },
    {
      "cell_type": "markdown",
      "metadata": {
        "id": "c5Alg3CB_O2V",
        "colab_type": "text"
      },
      "source": [
        "## Remove duplicated features\n"
      ]
    },
    {
      "cell_type": "code",
      "metadata": {
        "id": "_GYyp9Yu_O2W",
        "colab_type": "code",
        "colab": {},
        "outputId": "51cc6620-4a68-4be3-efad-829d8be0d5c4"
      },
      "source": [
        "# check for duplicated features in the training set\n",
        "duplicated_feat = []\n",
        "for i in range(0, len(X_train.columns)):\n",
        "    if i % 10 == 0:  # this helps me understand how the loop is going\n",
        "        print(i)\n",
        " \n",
        "    col_1 = X_train.columns[i]\n",
        " \n",
        "    for col_2 in X_train.columns[i + 1:]:\n",
        "        if X_train[col_1].equals(X_train[col_2]):\n",
        "            duplicated_feat.append(col_2)\n",
        "            \n",
        "len(duplicated_feat)#no of duplicate features?"
      ],
      "execution_count": 0,
      "outputs": [
        {
          "output_type": "stream",
          "text": [
            "0\n",
            "10\n",
            "20\n"
          ],
          "name": "stdout"
        },
        {
          "output_type": "execute_result",
          "data": {
            "text/plain": [
              "0"
            ]
          },
          "metadata": {
            "tags": []
          },
          "execution_count": 133
        }
      ]
    },
    {
      "cell_type": "code",
      "metadata": {
        "id": "GYczt_CO_O2Y",
        "colab_type": "code",
        "colab": {},
        "outputId": "a8966b00-6b16-44c9-b408-40fad002a8ab"
      },
      "source": [
        "# remove duplicated features\n",
        "X_train.drop(labels=duplicated_feat, axis=1, inplace=True)\n",
        "X_test.drop(labels=duplicated_feat, axis=1, inplace=True)\n",
        " \n",
        "X_train.shape, X_test.shape\n"
      ],
      "execution_count": 0,
      "outputs": [
        {
          "output_type": "execute_result",
          "data": {
            "text/plain": [
              "((1181502, 21), (506358, 21))"
            ]
          },
          "metadata": {
            "tags": []
          },
          "execution_count": 134
        }
      ]
    },
    {
      "cell_type": "code",
      "metadata": {
        "id": "EbBFHpVB_O2b",
        "colab_type": "code",
        "colab": {}
      },
      "source": [
        "# I keep a copy of the dataset except constant and duplicated variables\n",
        "# to measure the performance of machine learning models\n",
        "# at the end of the notebook\n",
        " \n",
        "X_train_basic_filter = X_train.copy()\n",
        "X_test_basic_filter = X_test.copy()"
      ],
      "execution_count": 0,
      "outputs": []
    },
    {
      "cell_type": "markdown",
      "metadata": {
        "id": "REu-AQmX_O2d",
        "colab_type": "text"
      },
      "source": [
        "## Remove correlated features"
      ]
    },
    {
      "cell_type": "code",
      "metadata": {
        "id": "W-gjGW3S_O2e",
        "colab_type": "code",
        "colab": {},
        "outputId": "12ae4ba0-2182-4dd0-9941-4fe4f3e04b39"
      },
      "source": [
        "# find and remove correlated features\n",
        "def correlation(dataset, threshold):\n",
        "    col_corr = set()  # Set of all the names of correlated columns\n",
        "    corr_matrix = dataset.corr()\n",
        "    for i in range(len(corr_matrix.columns)):\n",
        "        for j in range(i):\n",
        "            if abs(corr_matrix.iloc[i, j]) > threshold: # we are interested in absolute coeff value\n",
        "                colname = corr_matrix.columns[i]  # getting the name of column\n",
        "                col_corr.add(colname)\n",
        "    return col_corr\n",
        " \n",
        "corr_features = correlation(X_train, 0.85)\n",
        "print('correlated features: ', len(set(corr_features)) )"
      ],
      "execution_count": 0,
      "outputs": [
        {
          "output_type": "stream",
          "text": [
            "correlated features:  3\n"
          ],
          "name": "stdout"
        }
      ]
    },
    {
      "cell_type": "code",
      "metadata": {
        "id": "4hvqAF_Y_O2g",
        "colab_type": "code",
        "colab": {},
        "outputId": "6f201164-93c0-42d3-8968-c6dc7eefcc76"
      },
      "source": [
        "# removed correlated  features\n",
        "X_train.drop(labels=corr_features, axis=1, inplace=True)\n",
        "X_test.drop(labels=corr_features, axis=1, inplace=True)\n",
        " \n",
        "X_train.shape, X_test.shape"
      ],
      "execution_count": 0,
      "outputs": [
        {
          "output_type": "execute_result",
          "data": {
            "text/plain": [
              "((1181502, 18), (506358, 18))"
            ]
          },
          "metadata": {
            "tags": []
          },
          "execution_count": 137
        }
      ]
    },
    {
      "cell_type": "code",
      "metadata": {
        "id": "W_2h_xDN_O2j",
        "colab_type": "code",
        "colab": {}
      },
      "source": [
        "# keep a copy of the dataset at  this stage\n",
        "X_train_corr = X_train.copy()\n",
        "X_test_corr = X_test.copy()"
      ],
      "execution_count": 0,
      "outputs": []
    },
    {
      "cell_type": "markdown",
      "metadata": {
        "id": "g-DGR91y_O2k",
        "colab_type": "text"
      },
      "source": [
        "## Remove features using univariate ROC-AUC"
      ]
    },
    {
      "cell_type": "code",
      "metadata": {
        "id": "Bq8Hx-zh_O2l",
        "colab_type": "code",
        "colab": {}
      },
      "source": [
        "# find important features using univariate roc-auc\n",
        " \n",
        "# loop to build a tree, make predictions and get the roc-auc\n",
        "# for each feature of the train set\n",
        " \n",
        "roc_values = []\n",
        "for feature in X_train.columns:\n",
        "    clf = DecisionTreeClassifier()\n",
        "    clf.fit(X_train[feature].fillna(0).to_frame(), y_train)\n",
        "    y_scored = clf.predict_proba(X_test[feature].fillna(0).to_frame())\n",
        "    roc_values.append(roc_auc_score(y_test, y_scored[:, 1]))"
      ],
      "execution_count": 0,
      "outputs": []
    },
    {
      "cell_type": "code",
      "metadata": {
        "id": "Pzo6UNq5_O2n",
        "colab_type": "code",
        "colab": {},
        "outputId": "95dcf67c-c45f-4459-ac22-e2570c4daca8"
      },
      "source": [
        "# let's add the variable names and order it for clearer visualisation\n",
        "roc_values = pd.Series(roc_values)\n",
        "roc_values.index = X_train.columns\n",
        "roc_values.sort_values(ascending=False).plot.bar(figsize=(20, 8))"
      ],
      "execution_count": 0,
      "outputs": [
        {
          "output_type": "execute_result",
          "data": {
            "text/plain": [
              "<matplotlib.axes._subplots.AxesSubplot at 0x12a2256dd88>"
            ]
          },
          "metadata": {
            "tags": []
          },
          "execution_count": 140
        },
        {
          "output_type": "display_data",
          "data": {
            "image/png": "[encoded data removed]",
            "text/plain": [
              "<Figure size 1440x576 with 1 Axes>"
            ]
          },
          "metadata": {
            "tags": [],
            "needs_background": "light"
          }
        }
      ]
    },
    {
      "cell_type": "code",
      "metadata": {
        "id": "amkfwRbs_O2s",
        "colab_type": "code",
        "colab": {},
        "outputId": "ac6796da-a46d-4854-dff9-1fbc35386324"
      },
      "source": [
        "# by removing features with univariate roc_auc == 0.5\n",
        "# we remove another 30 features\n",
        " \n",
        "selected_feat = roc_values[roc_values>0.5]\n",
        "len(selected_feat), X_train.shape[1]"
      ],
      "execution_count": 0,
      "outputs": [
        {
          "output_type": "execute_result",
          "data": {
            "text/plain": [
              "(18, 18)"
            ]
          },
          "metadata": {
            "tags": []
          },
          "execution_count": 141
        }
      ]
    },
    {
      "cell_type": "markdown",
      "metadata": {
        "id": "AMTlqfAy_O2u",
        "colab_type": "text"
      },
      "source": [
        "## Select features by random forests derived importance"
      ]
    },
    {
      "cell_type": "code",
      "metadata": {
        "id": "4s5aEON-_O2v",
        "colab_type": "code",
        "colab": {}
      },
      "source": [
        "# select features using the impotance derived from\n",
        "# random forests\n",
        " \n",
        "sel_ = SelectFromModel(RandomForestClassifier(n_estimators=200))\n",
        "sel_.fit(X_train, y_train)\n",
        " \n",
        "# remove features with zero coefficient from dataset\n",
        "# and parse again as dataframe (output of sklearn is\n",
        "# numpy array)\n",
        "X_train_rf = pd.DataFrame(sel_.transform(X_train))\n",
        "X_test_rf = pd.DataFrame(sel_.transform(X_test))\n",
        " \n",
        "# add the columns name\n",
        "X_train_rf.columns = X_train.columns[(sel_.get_support())]\n",
        "X_test_rf.columns = X_train.columns[(sel_.get_support())]"
      ],
      "execution_count": 0,
      "outputs": []
    },
    {
      "cell_type": "code",
      "metadata": {
        "id": "ClNZG0Vs_O2z",
        "colab_type": "code",
        "colab": {},
        "outputId": "2df969d9-f88d-4fcd-e688-f12d9da8c5ab"
      },
      "source": [
        "X_train_rf.shape, X_test_rf.shape"
      ],
      "execution_count": 0,
      "outputs": [
        {
          "output_type": "execute_result",
          "data": {
            "text/plain": [
              "((1181502, 9), (506358, 9))"
            ]
          },
          "metadata": {
            "tags": []
          },
          "execution_count": 143
        }
      ]
    },
    {
      "cell_type": "code",
      "metadata": {
        "id": "nxwlK_Eu_O22",
        "colab_type": "code",
        "colab": {},
        "outputId": "38dde335-db4e-4cf3-e3a9-4dba96cdc6b5"
      },
      "source": [
        "X_train_rf.columns"
      ],
      "execution_count": 0,
      "outputs": [
        {
          "output_type": "execute_result",
          "data": {
            "text/plain": [
              "Index(['national_inv', 'lead_time', 'in_transit_qty', 'forecast_3_month',\n",
              "       'sales_1_month', 'sales_3_month', 'min_bank', 'perf_6_month_avg',\n",
              "       'perf_12_month_avg'],\n",
              "      dtype='object')"
            ]
          },
          "metadata": {
            "tags": []
          },
          "execution_count": 144
        }
      ]
    },
    {
      "cell_type": "markdown",
      "metadata": {
        "id": "MN9qCZ-Z_O25",
        "colab_type": "text"
      },
      "source": [
        "## Compare the performance in machine learning algorithms"
      ]
    },
    {
      "cell_type": "code",
      "metadata": {
        "id": "Qb21BxfQ_O25",
        "colab_type": "code",
        "colab": {}
      },
      "source": [
        "# create a function to build random forests and compare performance in train and test set\n",
        " \n",
        "def run_randomForests(X_train, X_test, y_train, y_test):\n",
        "    rf = RandomForestClassifier(n_estimators=200, random_state=39, max_depth=4)\n",
        "    rf.fit(X_train, y_train)\n",
        "    print('Train set')\n",
        "    pred = rf.predict_proba(X_train)\n",
        "    print('Random Forests roc-auc: {}'.format(roc_auc_score(y_train, pred[:,1])))\n",
        "    print('Test set')\n",
        "    pred = rf.predict_proba(X_test)\n",
        "    print('Random Forests roc-auc: {}'.format(roc_auc_score(y_test, pred[:,1])))"
      ],
      "execution_count": 0,
      "outputs": []
    },
    {
      "cell_type": "code",
      "metadata": {
        "id": "5keFkYw8_O27",
        "colab_type": "code",
        "colab": {},
        "outputId": "9dc2312e-8d5f-4021-a524-e31dda7921b7"
      },
      "source": [
        "# original\n",
        "run_randomForests(X_train_original,\n",
        "                  X_test_original,\n",
        "                  y_train, y_test)"
      ],
      "execution_count": 0,
      "outputs": [
        {
          "output_type": "stream",
          "text": [
            "Train set\n",
            "Random Forests roc-auc: 0.9029027860571155\n",
            "Test set\n",
            "Random Forests roc-auc: 0.9061475752648015\n"
          ],
          "name": "stdout"
        }
      ]
    },
    {
      "cell_type": "code",
      "metadata": {
        "id": "ajNpIMyJ_O29",
        "colab_type": "code",
        "colab": {},
        "outputId": "7b98fcac-ca93-4304-c1e2-897c55333aef"
      },
      "source": [
        "# filter methods - basic\n",
        "run_randomForests(X_train_basic_filter,\n",
        "                  X_test_basic_filter,\n",
        "                  y_train, y_test)"
      ],
      "execution_count": 0,
      "outputs": [
        {
          "output_type": "stream",
          "text": [
            "Train set\n",
            "Random Forests roc-auc: 0.9029027860571155\n",
            "Test set\n",
            "Random Forests roc-auc: 0.9061475752648015\n"
          ],
          "name": "stdout"
        }
      ]
    },
    {
      "cell_type": "code",
      "metadata": {
        "id": "6SlFNQir_O2_",
        "colab_type": "code",
        "colab": {},
        "outputId": "1317b84a-8596-4956-89b7-cb58c634310f"
      },
      "source": [
        "# filter methods - correlation\n",
        "run_randomForests(X_train_corr,\n",
        "                  X_test_corr,\n",
        "                  y_train, y_test)\n"
      ],
      "execution_count": 0,
      "outputs": [
        {
          "output_type": "stream",
          "text": [
            "Train set\n",
            "Random Forests roc-auc: 0.9016037019824279\n",
            "Test set\n",
            "Random Forests roc-auc: 0.9057457408788698\n"
          ],
          "name": "stdout"
        }
      ]
    },
    {
      "cell_type": "code",
      "metadata": {
        "id": "ophDBIvr_O3B",
        "colab_type": "code",
        "colab": {},
        "outputId": "f7e61f01-922c-43ec-9c9a-202fc39163ba"
      },
      "source": [
        "# embedded methods - Random forests\n",
        "run_randomForests(X_train_rf,\n",
        "                  X_test_rf,\n",
        "                  y_train, y_test)"
      ],
      "execution_count": 0,
      "outputs": [
        {
          "output_type": "stream",
          "text": [
            "Train set\n",
            "Random Forests roc-auc: 0.8958480360827887\n",
            "Test set\n",
            "Random Forests roc-auc: 0.9013554518128453\n"
          ],
          "name": "stdout"
        }
      ]
    },
    {
      "cell_type": "code",
      "metadata": {
        "id": "SbJNXhOG_O3D",
        "colab_type": "code",
        "colab": {},
        "outputId": "d5eb1e0e-b8a8-4721-f27e-4cfc4506d623"
      },
      "source": [
        "# filter methods - univariate roc-auc\n",
        "run_randomForests(X_train[selected_feat.index],\n",
        "                  X_test_corr[selected_feat.index],\n",
        "                  y_train, y_test)"
      ],
      "execution_count": 0,
      "outputs": [
        {
          "output_type": "stream",
          "text": [
            "Train set\n",
            "Random Forests roc-auc: 0.9016037019824279\n",
            "Test set\n",
            "Random Forests roc-auc: 0.9057457408788698\n"
          ],
          "name": "stdout"
        }
      ]
    },
    {
      "cell_type": "markdown",
      "metadata": {
        "id": "SAhmFqf6_O3I",
        "colab_type": "text"
      },
      "source": [
        "## now we will check the impact on logistic reggression "
      ]
    },
    {
      "cell_type": "code",
      "metadata": {
        "id": "EvAh17_5_O3I",
        "colab_type": "code",
        "colab": {}
      },
      "source": [
        "# create a function to build logistic regression and compare performance in train and test set\n",
        " \n",
        "def run_logistic(X_train, X_test, y_train, y_test):\n",
        "    # function to train and test the performance of logistic regression\n",
        "    logit = LogisticRegression(random_state=44)\n",
        "    logit.fit(X_train, y_train)\n",
        "    print('Train set')\n",
        "    pred = logit.predict_proba(X_train)\n",
        "    print('Logistic Regression roc-auc: {}'.format(roc_auc_score(y_train, pred[:,1])))\n",
        "    print('Test set')\n",
        "    pred = logit.predict_proba(X_test)\n",
        "    print('Logistic Regression roc-auc: {}'.format(roc_auc_score(y_test, pred[:,1])))"
      ],
      "execution_count": 0,
      "outputs": []
    },
    {
      "cell_type": "code",
      "metadata": {
        "id": "HSxvNSrg_O3K",
        "colab_type": "code",
        "colab": {},
        "outputId": "d1a4c00a-c382-4f53-b3db-d1d63b0d980f"
      },
      "source": [
        "# original\n",
        "scaler = StandardScaler().fit(X_train_original)\n",
        " \n",
        "run_logistic(scaler.transform(X_train_original),\n",
        "             scaler.transform(X_test_original),\n",
        "                  y_train, y_test)"
      ],
      "execution_count": 0,
      "outputs": [
        {
          "output_type": "stream",
          "text": [
            "Train set\n",
            "Logistic Regression roc-auc: 0.8843948819522285\n",
            "Test set\n",
            "Logistic Regression roc-auc: 0.8862804399317693\n"
          ],
          "name": "stdout"
        }
      ]
    },
    {
      "cell_type": "code",
      "metadata": {
        "id": "1wUnU6Xk_O3M",
        "colab_type": "code",
        "colab": {},
        "outputId": "79b5b80a-0d87-4018-aaf2-baf88e348958"
      },
      "source": [
        "# filter methods - basic\n",
        "scaler = StandardScaler().fit(X_train_basic_filter)\n",
        " \n",
        "run_logistic(scaler.transform(X_train_basic_filter),\n",
        "             scaler.transform(X_test_basic_filter),\n",
        "                  y_train, y_test)"
      ],
      "execution_count": 0,
      "outputs": [
        {
          "output_type": "stream",
          "text": [
            "Train set\n",
            "Logistic Regression roc-auc: 0.8843948819522285\n",
            "Test set\n",
            "Logistic Regression roc-auc: 0.8862804399317693\n"
          ],
          "name": "stdout"
        }
      ]
    },
    {
      "cell_type": "code",
      "metadata": {
        "id": "dUQ2GbkW_O3Q",
        "colab_type": "code",
        "colab": {},
        "outputId": "9c8a9c77-44fb-4cb3-e767-735ac54486a3"
      },
      "source": [
        "# filter methods - correlation\n",
        "scaler = StandardScaler().fit(X_train_corr)\n",
        " \n",
        "run_logistic(scaler.transform(X_train_corr),\n",
        "             scaler.transform(X_test_corr),\n",
        "                  y_train, y_test)"
      ],
      "execution_count": 0,
      "outputs": [
        {
          "output_type": "stream",
          "text": [
            "Train set\n",
            "Logistic Regression roc-auc: 0.8828806735461338\n",
            "Test set\n",
            "Logistic Regression roc-auc: 0.8856490164871129\n"
          ],
          "name": "stdout"
        }
      ]
    },
    {
      "cell_type": "code",
      "metadata": {
        "id": "U1TSGKM5_O3S",
        "colab_type": "code",
        "colab": {},
        "outputId": "4c76675f-a40b-4f94-8437-5a29e674c194"
      },
      "source": [
        "# filter methods - univariate roc-auc\n",
        "scaler = StandardScaler().fit(X_train[selected_feat.index])\n",
        " \n",
        "run_logistic(scaler.transform(X_train[selected_feat.index]),\n",
        "             scaler.transform(X_test_corr[selected_feat.index]),\n",
        "                  y_train, y_test)"
      ],
      "execution_count": 0,
      "outputs": [
        {
          "output_type": "stream",
          "text": [
            "Train set\n",
            "Logistic Regression roc-auc: 0.8828806735461338\n",
            "Test set\n",
            "Logistic Regression roc-auc: 0.8856490164871129\n"
          ],
          "name": "stdout"
        }
      ]
    },
    {
      "cell_type": "code",
      "metadata": {
        "id": "9OcY6S8w_O3Y",
        "colab_type": "code",
        "colab": {},
        "outputId": "9088d3cc-11f2-4f55-d824-d8818d889c9e"
      },
      "source": [
        "# embedded methods - Random Forests importance\n",
        " \n",
        "scaler = StandardScaler().fit(X_train_rf)\n",
        " \n",
        "run_logistic(\n",
        "    scaler.transform(X_train_rf), scaler.transform(X_test_rf), y_train, y_test)"
      ],
      "execution_count": 0,
      "outputs": [
        {
          "output_type": "stream",
          "text": [
            "Train set\n",
            "Logistic Regression roc-auc: 0.874050491937909\n",
            "Test set\n",
            "Logistic Regression roc-auc: 0.8779809930422574\n"
          ],
          "name": "stdout"
        }
      ]
    },
    {
      "cell_type": "code",
      "metadata": {
        "id": "8xH1ARGQ_O3a",
        "colab_type": "code",
        "colab": {}
      },
      "source": [
        ""
      ],
      "execution_count": 0,
      "outputs": []
    },
    {
      "cell_type": "markdown",
      "metadata": {
        "id": "7bHiuPAu_O3c",
        "colab_type": "text"
      },
      "source": [
        "## now we will try to select features based on lasso regularization and will see the impact on random forest and logistic reggression "
      ]
    },
    {
      "cell_type": "code",
      "metadata": {
        "id": "YHcr-0Fi_O3c",
        "colab_type": "code",
        "colab": {}
      },
      "source": [
        "X_train=X_train_ordered_des_t.copy()\n",
        "X_test=X_test_ordered_des_t.copy()\n",
        "y_train=y_train.copy()\n",
        "y_test=y_test.copy()"
      ],
      "execution_count": 0,
      "outputs": []
    },
    {
      "cell_type": "code",
      "metadata": {
        "id": "0YXf9Ynr_O3e",
        "colab_type": "code",
        "colab": {}
      },
      "source": [
        "# I keep a copy of the dataset with all the variables\n",
        "# to measure the performance of machine learning models\n",
        "# at the end of the notebook\n",
        "X_train_original = X_train.copy()\n",
        "X_test_original = X_test.copy()"
      ],
      "execution_count": 0,
      "outputs": []
    },
    {
      "cell_type": "code",
      "metadata": {
        "id": "CR-spuKd_O3f",
        "colab_type": "code",
        "colab": {},
        "outputId": "0d0e1147-fb6f-457e-c3da-6c2600509453"
      },
      "source": [
        "# find and remove correlated features\n",
        "def correlation(dataset, threshold):\n",
        "    col_corr = set()  # Set of all the names of correlated columns\n",
        "    corr_matrix = dataset.corr()\n",
        "    for i in range(len(corr_matrix.columns)):\n",
        "        for j in range(i):\n",
        "            if abs(corr_matrix.iloc[i, j]) > threshold: # we are interested in absolute coeff value\n",
        "                colname = corr_matrix.columns[i]  # getting the name of column\n",
        "                col_corr.add(colname)\n",
        "    return col_corr\n",
        " \n",
        "corr_features = correlation(X_train, 0.8)\n",
        "print('correlated features: ', len(set(corr_features)) )"
      ],
      "execution_count": 0,
      "outputs": [
        {
          "output_type": "stream",
          "text": [
            "correlated features:  2\n"
          ],
          "name": "stdout"
        }
      ]
    },
    {
      "cell_type": "code",
      "metadata": {
        "id": "HM7mvu5J_O3h",
        "colab_type": "code",
        "colab": {},
        "outputId": "64a8901b-d3c8-4d79-f680-1710979d1ed8"
      },
      "source": [
        "# removed correlated  features\n",
        "X_train.drop(labels=corr_features, axis=1, inplace=True)\n",
        "X_test.drop(labels=corr_features, axis=1, inplace=True)\n",
        " \n",
        "X_train.shape, X_test.shape"
      ],
      "execution_count": 0,
      "outputs": [
        {
          "output_type": "execute_result",
          "data": {
            "text/plain": [
              "((1181502, 19), (506358, 19))"
            ]
          },
          "metadata": {
            "tags": []
          },
          "execution_count": 161
        }
      ]
    },
    {
      "cell_type": "code",
      "metadata": {
        "id": "veKP5iqL_O3i",
        "colab_type": "code",
        "colab": {}
      },
      "source": [
        "# keep a copy of the dataset at  this stage\n",
        "X_train_corr = X_train.copy()\n",
        "X_test_corr = X_test.copy()"
      ],
      "execution_count": 0,
      "outputs": []
    },
    {
      "cell_type": "code",
      "metadata": {
        "id": "McqZ6-wS_O3k",
        "colab_type": "code",
        "colab": {}
      },
      "source": [
        "# find important features using univariate roc-auc\n",
        " \n",
        "# loop to build a tree, make predictions and get the roc-auc\n",
        "# for each feature of the train set\n",
        " \n",
        "roc_values = []\n",
        "for feature in X_train.columns:\n",
        "    clf = DecisionTreeClassifier()\n",
        "    clf.fit(X_train[feature].fillna(0).to_frame(), y_train)\n",
        "    y_scored = clf.predict_proba(X_test[feature].fillna(0).to_frame())\n",
        "    roc_values.append(roc_auc_score(y_test, y_scored[:, 1]))"
      ],
      "execution_count": 0,
      "outputs": []
    },
    {
      "cell_type": "code",
      "metadata": {
        "id": "ynZyE4zk_O3l",
        "colab_type": "code",
        "colab": {},
        "outputId": "a6c794e6-01c6-4796-a778-296f90f04d86"
      },
      "source": [
        "# let's add the variable names and order it for clearer visualisation\n",
        "roc_values = pd.Series(roc_values)\n",
        "roc_values.index = X_train.columns\n",
        "roc_values.sort_values(ascending=False).plot.bar(figsize=(20, 8))"
      ],
      "execution_count": 0,
      "outputs": [
        {
          "output_type": "execute_result",
          "data": {
            "text/plain": [
              "<matplotlib.axes._subplots.AxesSubplot at 0x12a229ebf88>"
            ]
          },
          "metadata": {
            "tags": []
          },
          "execution_count": 164
        },
        {
          "output_type": "display_data",
          "data": {
            "image/png": "[encoded data removed]",
            "text/plain": [
              "<Figure size 1440x576 with 1 Axes>"
            ]
          },
          "metadata": {
            "tags": [],
            "needs_background": "light"
          }
        }
      ]
    },
    {
      "cell_type": "code",
      "metadata": {
        "id": "p1zX06Ii_O3n",
        "colab_type": "code",
        "colab": {},
        "outputId": "0f34bc2b-ede7-4f88-9209-be29c8664435"
      },
      "source": [
        "# by removing features with univariate roc_auc == 0.5\n",
        "# we remove another 30 features\n",
        " \n",
        "selected_feat = roc_values[roc_values>0.5]\n",
        "len(selected_feat), X_train.shape[1]"
      ],
      "execution_count": 0,
      "outputs": [
        {
          "output_type": "execute_result",
          "data": {
            "text/plain": [
              "(19, 19)"
            ]
          },
          "metadata": {
            "tags": []
          },
          "execution_count": 165
        }
      ]
    },
    {
      "cell_type": "markdown",
      "metadata": {
        "id": "KukYvpi2_O3o",
        "colab_type": "text"
      },
      "source": [
        "## Remove features using Lasso"
      ]
    },
    {
      "cell_type": "code",
      "metadata": {
        "id": "r0RWoWwI_O3p",
        "colab_type": "code",
        "colab": {},
        "outputId": "3812c5a6-5b21-445b-d048-ed2533ed8927"
      },
      "source": [
        "scaler = StandardScaler()\n",
        "scaler.fit(X_train)"
      ],
      "execution_count": 0,
      "outputs": [
        {
          "output_type": "execute_result",
          "data": {
            "text/plain": [
              "StandardScaler(copy=True, with_mean=True, with_std=True)"
            ]
          },
          "metadata": {
            "tags": []
          },
          "execution_count": 166
        }
      ]
    },
    {
      "cell_type": "code",
      "metadata": {
        "id": "WbnF75-A_O3q",
        "colab_type": "code",
        "colab": {}
      },
      "source": [
        "# fit a lasso and select features, make sure to select l1\n",
        "sel_ = SelectFromModel(LogisticRegression(C=1, penalty='l2'))\n",
        "sel_.fit(scaler.transform(X_train), y_train)\n",
        " \n",
        "# remove features with zero coefficient from dataset\n",
        "# and parse again as dataframe (output of sklearn is\n",
        "# numpy array)\n",
        "X_train_lasso = pd.DataFrame(sel_.transform(X_train))\n",
        "X_test_lasso = pd.DataFrame(sel_.transform(X_test))\n",
        " \n",
        "# add the columns name\n",
        "X_train_lasso.columns = X_train.columns[(sel_.get_support())]\n",
        "X_test_lasso.columns = X_train.columns[(sel_.get_support())]"
      ],
      "execution_count": 0,
      "outputs": []
    },
    {
      "cell_type": "code",
      "metadata": {
        "id": "4TbjMKOh_O3t",
        "colab_type": "code",
        "colab": {},
        "outputId": "c01db1d3-75e5-4d7e-8116-a398ac2cf40d"
      },
      "source": [
        "X_train_lasso.shape, X_test_lasso.shape"
      ],
      "execution_count": 0,
      "outputs": [
        {
          "output_type": "execute_result",
          "data": {
            "text/plain": [
              "((1181502, 6), (506358, 6))"
            ]
          },
          "metadata": {
            "tags": []
          },
          "execution_count": 168
        }
      ]
    },
    {
      "cell_type": "markdown",
      "metadata": {
        "id": "fENV757u_O3v",
        "colab_type": "text"
      },
      "source": [
        "#### test of feature selection using lasso regularization on random forest "
      ]
    },
    {
      "cell_type": "code",
      "metadata": {
        "id": "zBp7k3mR_O3v",
        "colab_type": "code",
        "colab": {},
        "outputId": "eafa6e1c-f0fb-485f-9e48-de3440add2bc"
      },
      "source": [
        "# filter methods - correlation\n",
        "run_randomForests(X_train_corr,\n",
        "                  X_test_corr,\n",
        "                  y_train, y_test)"
      ],
      "execution_count": 0,
      "outputs": [
        {
          "output_type": "stream",
          "text": [
            "Train set\n",
            "Random Forests roc-auc: 0.8979708269964244\n",
            "Test set\n",
            "Random Forests roc-auc: 0.9035752905441974\n"
          ],
          "name": "stdout"
        }
      ]
    },
    {
      "cell_type": "code",
      "metadata": {
        "id": "HPTYlDBy_O3x",
        "colab_type": "code",
        "colab": {},
        "outputId": "3c4164b5-5e92-44e0-bea6-28bd3384dd12"
      },
      "source": [
        "# filter methods - univariate roc-auc\n",
        "run_randomForests(X_train[selected_feat.index],\n",
        "                  X_test_corr[selected_feat.index],\n",
        "                  y_train, y_test)"
      ],
      "execution_count": 0,
      "outputs": [
        {
          "output_type": "stream",
          "text": [
            "Train set\n",
            "Random Forests roc-auc: 0.8979708269964244\n",
            "Test set\n",
            "Random Forests roc-auc: 0.9035752905441974\n"
          ],
          "name": "stdout"
        }
      ]
    },
    {
      "cell_type": "code",
      "metadata": {
        "id": "WkK6R1OT_O3z",
        "colab_type": "code",
        "colab": {},
        "outputId": "3b6b6dc3-8757-43f0-ed1b-b06bc3345258"
      },
      "source": [
        "# embedded methods - Lasso\n",
        "run_randomForests(X_train_lasso,\n",
        "                  X_test_lasso,\n",
        "                  y_train, y_test)"
      ],
      "execution_count": 0,
      "outputs": [
        {
          "output_type": "stream",
          "text": [
            "Train set\n",
            "Random Forests roc-auc: 0.8932193986964736\n",
            "Test set\n",
            "Random Forests roc-auc: 0.8985380407083586\n"
          ],
          "name": "stdout"
        }
      ]
    },
    {
      "cell_type": "markdown",
      "metadata": {
        "id": "5jsM6-KA_O32",
        "colab_type": "text"
      },
      "source": [
        "#### test of feature selection using lasso regularization on logistic reggression "
      ]
    },
    {
      "cell_type": "code",
      "metadata": {
        "id": "LQ7-xNky_O32",
        "colab_type": "code",
        "colab": {},
        "outputId": "99263f4e-d494-4f0c-8ad2-3cdf44148ed8"
      },
      "source": [
        "# filter methods - correlation\n",
        "scaler = StandardScaler().fit(X_train_corr)\n",
        " \n",
        "run_logistic(scaler.transform(X_train_corr),\n",
        "             scaler.transform(X_test_corr),\n",
        "                  y_train, y_test)"
      ],
      "execution_count": 0,
      "outputs": [
        {
          "output_type": "stream",
          "text": [
            "Train set\n",
            "Logistic Regression roc-auc: 0.8747387125159399\n",
            "Test set\n",
            "Logistic Regression roc-auc: 0.8793358547487434\n"
          ],
          "name": "stdout"
        }
      ]
    },
    {
      "cell_type": "code",
      "metadata": {
        "id": "cvMMG_jh_O34",
        "colab_type": "code",
        "colab": {},
        "outputId": "ee0102f1-0c73-4255-ce42-56608f0fa79c"
      },
      "source": [
        "# filter methods - univariate roc-auc\n",
        "scaler = StandardScaler().fit(X_train[selected_feat.index])\n",
        " \n",
        "run_logistic(scaler.transform(X_train[selected_feat.index]),\n",
        "             scaler.transform(X_test_corr[selected_feat.index]),\n",
        "                  y_train, y_test)"
      ],
      "execution_count": 0,
      "outputs": [
        {
          "output_type": "stream",
          "text": [
            "Train set\n",
            "Logistic Regression roc-auc: 0.8747387125159399\n",
            "Test set\n",
            "Logistic Regression roc-auc: 0.8793358547487434\n"
          ],
          "name": "stdout"
        }
      ]
    },
    {
      "cell_type": "code",
      "metadata": {
        "id": "ExXD_Ou9_O35",
        "colab_type": "code",
        "colab": {},
        "outputId": "c1a52a1e-32a2-4db8-ab3e-6ddd9c657661"
      },
      "source": [
        "# embedded methods - Lasso\n",
        "run_logistic(X_train_lasso,\n",
        "                  X_test_lasso,\n",
        "                  y_train, y_test)"
      ],
      "execution_count": 0,
      "outputs": [
        {
          "output_type": "stream",
          "text": [
            "Train set\n",
            "Logistic Regression roc-auc: 0.868401246278499\n",
            "Test set\n",
            "Logistic Regression roc-auc: 0.8740629488596915\n"
          ],
          "name": "stdout"
        }
      ]
    },
    {
      "cell_type": "code",
      "metadata": {
        "id": "SF3HOxi5_O39",
        "colab_type": "code",
        "colab": {},
        "outputId": "70db5e78-c16f-41aa-cc1d-0edbd3ec93cf"
      },
      "source": [
        "X_train_lasso.columns"
      ],
      "execution_count": 0,
      "outputs": [
        {
          "output_type": "execute_result",
          "data": {
            "text/plain": [
              "Index(['national_inv', 'lead_time', 'in_transit_qty', 'forecast_3_month',\n",
              "       'sales_1_month', 'sales_9_month'],\n",
              "      dtype='object')"
            ]
          },
          "metadata": {
            "tags": []
          },
          "execution_count": 175
        }
      ]
    },
    {
      "cell_type": "code",
      "metadata": {
        "id": "5YxftV5y_O4B",
        "colab_type": "code",
        "colab": {}
      },
      "source": [
        "##  my next work will be applying diffrent classification algorithm and chose the best algorithm \n",
        "\n",
        "\n",
        "# for that i will create three types of pipeline (based on only selected features in feture selection analysis)\n",
        "\n",
        "# 1.miising imputation----->categorical encoding(ordered integer)------>gaussian transformation-------->descritisation-------\n",
        "#--->scaling   (normal feature engineering pipeline)\n",
        "\n",
        "#2.missing imputation------->categorical encoding(ordered integer)------>decritisation (tree based )  (for tree based classification)\n",
        "\n",
        "#3.missing imputation ----->categorical encoding (ordered integer)------->descritisation(tree based)---->scaling\n",
        "#( for non tree based algorithm )\n",
        "\n",
        "#and 1st i will chacke both tree based and non tree based algo and analyse  "
      ],
      "execution_count": 0,
      "outputs": []
    },
    {
      "cell_type": "markdown",
      "metadata": {
        "id": "wJ3qRU4l_O4G",
        "colab_type": "text"
      },
      "source": [
        "# -----------------------------------------------sampling---------------------------------------------------"
      ]
    },
    {
      "cell_type": "code",
      "metadata": {
        "id": "MjN0BcPD_O4G",
        "colab_type": "code",
        "colab": {}
      },
      "source": [
        "df=pd.read_csv(r\"C:\\Users\\SAKET NANDAN\\Documents\\current_hackathon\\backorder_prediction\\Back order prediction\\data_no_null_in_target.csv\")"
      ],
      "execution_count": 0,
      "outputs": []
    },
    {
      "cell_type": "code",
      "metadata": {
        "id": "OKNzfaC9_O4M",
        "colab_type": "code",
        "colab": {},
        "outputId": "0db67c2b-b304-45ab-9ac5-1c2ba83bc112"
      },
      "source": [
        "df['went_on_backorder'].value_counts()"
      ],
      "execution_count": 0,
      "outputs": [
        {
          "output_type": "execute_result",
          "data": {
            "text/plain": [
              "0    1676567\n",
              "1      11293\n",
              "Name: went_on_backorder, dtype: int64"
            ]
          },
          "metadata": {
            "tags": []
          },
          "execution_count": 293
        }
      ]
    },
    {
      "cell_type": "code",
      "metadata": {
        "id": "3t6NxwTL_O4O",
        "colab_type": "code",
        "colab": {}
      },
      "source": [
        "data=df[['national_inv', 'lead_time', 'in_transit_qty', 'forecast_3_month', 'sales_1_month', 'sales_9_month','went_on_backorder']]"
      ],
      "execution_count": 0,
      "outputs": []
    },
    {
      "cell_type": "code",
      "metadata": {
        "id": "l8vRB8W0_O4Q",
        "colab_type": "code",
        "colab": {},
        "outputId": "55d640cb-e750-47d3-9ee0-65d380e48fae"
      },
      "source": [
        "data"
      ],
      "execution_count": 0,
      "outputs": [
        {
          "output_type": "execute_result",
          "data": {
            "text/html": [
              "<div>\n",
              "<style scoped>\n",
              "    .dataframe tbody tr th:only-of-type {\n",
              "        vertical-align: middle;\n",
              "    }\n",
              "\n",
              "    .dataframe tbody tr th {\n",
              "        vertical-align: top;\n",
              "    }\n",
              "\n",
              "    .dataframe thead th {\n",
              "        text-align: right;\n",
              "    }\n",
              "</style>\n",
              "<table border=\"1\" class=\"dataframe\">\n",
              "  <thead>\n",
              "    <tr style=\"text-align: right;\">\n",
              "      <th></th>\n",
              "      <th>national_inv</th>\n",
              "      <th>lead_time</th>\n",
              "      <th>in_transit_qty</th>\n",
              "      <th>forecast_3_month</th>\n",
              "      <th>sales_1_month</th>\n",
              "      <th>sales_9_month</th>\n",
              "      <th>went_on_backorder</th>\n",
              "    </tr>\n",
              "  </thead>\n",
              "  <tbody>\n",
              "    <tr>\n",
              "      <th>0</th>\n",
              "      <td>0.0</td>\n",
              "      <td>NaN</td>\n",
              "      <td>0.0</td>\n",
              "      <td>0.0</td>\n",
              "      <td>0.0</td>\n",
              "      <td>0.0</td>\n",
              "      <td>0</td>\n",
              "    </tr>\n",
              "    <tr>\n",
              "      <th>1</th>\n",
              "      <td>2.0</td>\n",
              "      <td>9.0</td>\n",
              "      <td>0.0</td>\n",
              "      <td>0.0</td>\n",
              "      <td>0.0</td>\n",
              "      <td>0.0</td>\n",
              "      <td>0</td>\n",
              "    </tr>\n",
              "    <tr>\n",
              "      <th>2</th>\n",
              "      <td>2.0</td>\n",
              "      <td>NaN</td>\n",
              "      <td>0.0</td>\n",
              "      <td>0.0</td>\n",
              "      <td>0.0</td>\n",
              "      <td>0.0</td>\n",
              "      <td>0</td>\n",
              "    </tr>\n",
              "    <tr>\n",
              "      <th>3</th>\n",
              "      <td>7.0</td>\n",
              "      <td>8.0</td>\n",
              "      <td>0.0</td>\n",
              "      <td>0.0</td>\n",
              "      <td>0.0</td>\n",
              "      <td>0.0</td>\n",
              "      <td>0</td>\n",
              "    </tr>\n",
              "    <tr>\n",
              "      <th>4</th>\n",
              "      <td>8.0</td>\n",
              "      <td>NaN</td>\n",
              "      <td>0.0</td>\n",
              "      <td>0.0</td>\n",
              "      <td>0.0</td>\n",
              "      <td>4.0</td>\n",
              "      <td>0</td>\n",
              "    </tr>\n",
              "    <tr>\n",
              "      <th>...</th>\n",
              "      <td>...</td>\n",
              "      <td>...</td>\n",
              "      <td>...</td>\n",
              "      <td>...</td>\n",
              "      <td>...</td>\n",
              "      <td>...</td>\n",
              "      <td>...</td>\n",
              "    </tr>\n",
              "    <tr>\n",
              "      <th>1687855</th>\n",
              "      <td>0.0</td>\n",
              "      <td>2.0</td>\n",
              "      <td>0.0</td>\n",
              "      <td>10.0</td>\n",
              "      <td>0.0</td>\n",
              "      <td>7.0</td>\n",
              "      <td>0</td>\n",
              "    </tr>\n",
              "    <tr>\n",
              "      <th>1687856</th>\n",
              "      <td>-1.0</td>\n",
              "      <td>NaN</td>\n",
              "      <td>0.0</td>\n",
              "      <td>5.0</td>\n",
              "      <td>1.0</td>\n",
              "      <td>8.0</td>\n",
              "      <td>0</td>\n",
              "    </tr>\n",
              "    <tr>\n",
              "      <th>1687857</th>\n",
              "      <td>-1.0</td>\n",
              "      <td>9.0</td>\n",
              "      <td>0.0</td>\n",
              "      <td>7.0</td>\n",
              "      <td>0.0</td>\n",
              "      <td>12.0</td>\n",
              "      <td>1</td>\n",
              "    </tr>\n",
              "    <tr>\n",
              "      <th>1687858</th>\n",
              "      <td>62.0</td>\n",
              "      <td>9.0</td>\n",
              "      <td>16.0</td>\n",
              "      <td>39.0</td>\n",
              "      <td>35.0</td>\n",
              "      <td>205.0</td>\n",
              "      <td>0</td>\n",
              "    </tr>\n",
              "    <tr>\n",
              "      <th>1687859</th>\n",
              "      <td>19.0</td>\n",
              "      <td>4.0</td>\n",
              "      <td>0.0</td>\n",
              "      <td>0.0</td>\n",
              "      <td>2.0</td>\n",
              "      <td>20.0</td>\n",
              "      <td>0</td>\n",
              "    </tr>\n",
              "  </tbody>\n",
              "</table>\n",
              "<p>1687860 rows × 7 columns</p>\n",
              "</div>"
            ],
            "text/plain": [
              "         national_inv  lead_time  in_transit_qty  forecast_3_month  \\\n",
              "0                 0.0        NaN             0.0               0.0   \n",
              "1                 2.0        9.0             0.0               0.0   \n",
              "2                 2.0        NaN             0.0               0.0   \n",
              "3                 7.0        8.0             0.0               0.0   \n",
              "4                 8.0        NaN             0.0               0.0   \n",
              "...               ...        ...             ...               ...   \n",
              "1687855           0.0        2.0             0.0              10.0   \n",
              "1687856          -1.0        NaN             0.0               5.0   \n",
              "1687857          -1.0        9.0             0.0               7.0   \n",
              "1687858          62.0        9.0            16.0              39.0   \n",
              "1687859          19.0        4.0             0.0               0.0   \n",
              "\n",
              "         sales_1_month  sales_9_month  went_on_backorder  \n",
              "0                  0.0            0.0                  0  \n",
              "1                  0.0            0.0                  0  \n",
              "2                  0.0            0.0                  0  \n",
              "3                  0.0            0.0                  0  \n",
              "4                  0.0            4.0                  0  \n",
              "...                ...            ...                ...  \n",
              "1687855            0.0            7.0                  0  \n",
              "1687856            1.0            8.0                  0  \n",
              "1687857            0.0           12.0                  1  \n",
              "1687858           35.0          205.0                  0  \n",
              "1687859            2.0           20.0                  0  \n",
              "\n",
              "[1687860 rows x 7 columns]"
            ]
          },
          "metadata": {
            "tags": []
          },
          "execution_count": 295
        }
      ]
    },
    {
      "cell_type": "code",
      "metadata": {
        "id": "XyOwgB6k_O4U",
        "colab_type": "code",
        "colab": {}
      },
      "source": [
        "#data.fillna(-99999, inplace=True)"
      ],
      "execution_count": 0,
      "outputs": []
    },
    {
      "cell_type": "code",
      "metadata": {
        "id": "adJFP4Xz_O4X",
        "colab_type": "code",
        "colab": {},
        "outputId": "e3e9bd4a-ff3b-4de9-b42b-4ea1ed6024ea"
      },
      "source": [
        "#data['went_on_backorder'] = data['went_on_backorder'].astype(np.float64)"
      ],
      "execution_count": 0,
      "outputs": [
        {
          "output_type": "stream",
          "text": [
            "C:\\Users\\SAKET NANDAN\\anaconda3\\lib\\site-packages\\ipykernel_launcher.py:1: SettingWithCopyWarning: \n",
            "A value is trying to be set on a copy of a slice from a DataFrame.\n",
            "Try using .loc[row_indexer,col_indexer] = value instead\n",
            "\n",
            "See the caveats in the documentation: https://pandas.pydata.org/pandas-docs/stable/user_guide/indexing.html#returning-a-view-versus-a-copy\n",
            "  \"\"\"Entry point for launching an IPython kernel.\n"
          ],
          "name": "stderr"
        }
      ]
    },
    {
      "cell_type": "code",
      "metadata": {
        "id": "lkWsoutM_O4a",
        "colab_type": "code",
        "colab": {},
        "outputId": "c378d66d-a1d4-4bdf-bf4d-28ba4c3521dd"
      },
      "source": [
        "data.info()"
      ],
      "execution_count": 0,
      "outputs": [
        {
          "output_type": "stream",
          "text": [
            "<class 'pandas.core.frame.DataFrame'>\n",
            "RangeIndex: 1687860 entries, 0 to 1687859\n",
            "Data columns (total 7 columns):\n",
            " #   Column             Non-Null Count    Dtype  \n",
            "---  ------             --------------    -----  \n",
            " 0   national_inv       1687860 non-null  float64\n",
            " 1   lead_time          1586967 non-null  float64\n",
            " 2   in_transit_qty     1687860 non-null  float64\n",
            " 3   forecast_3_month   1687860 non-null  float64\n",
            " 4   sales_1_month      1687860 non-null  float64\n",
            " 5   sales_9_month      1687860 non-null  float64\n",
            " 6   went_on_backorder  1687860 non-null  int64  \n",
            "dtypes: float64(6), int64(1)\n",
            "memory usage: 90.1 MB\n"
          ],
          "name": "stdout"
        }
      ]
    },
    {
      "cell_type": "code",
      "metadata": {
        "id": "-mLSWIGo_O4d",
        "colab_type": "code",
        "colab": {},
        "outputId": "2c674ace-94c8-4b96-d02d-389205a39519"
      },
      "source": [
        "# Let's divide into train and test set\n",
        "\n",
        "X_train, X_test, y_train, y_test = train_test_split(\n",
        "    data.drop(labels='went_on_backorder', axis=1),  # predictors\n",
        "    data['went_on_backorder'],  # target\n",
        "    test_size=0.3,\n",
        "    random_state=0)\n",
        "\n",
        "X_train.shape, X_test.shape"
      ],
      "execution_count": 0,
      "outputs": [
        {
          "output_type": "execute_result",
          "data": {
            "text/plain": [
              "((1181502, 6), (506358, 6))"
            ]
          },
          "metadata": {
            "tags": []
          },
          "execution_count": 298
        }
      ]
    },
    {
      "cell_type": "code",
      "metadata": {
        "id": "nQwNjlB9_O4f",
        "colab_type": "code",
        "colab": {},
        "outputId": "92a3cbb2-3de2-450d-e54f-20e17f14012b"
      },
      "source": [
        "median_imputer.fit(X_train)"
      ],
      "execution_count": 0,
      "outputs": [
        {
          "output_type": "execute_result",
          "data": {
            "text/plain": [
              "MeanMedianImputer(imputation_method='median', variables=['lead_time'])"
            ]
          },
          "metadata": {
            "tags": []
          },
          "execution_count": 299
        }
      ]
    },
    {
      "cell_type": "code",
      "metadata": {
        "id": "Kd6kk2yV_O4h",
        "colab_type": "code",
        "colab": {}
      },
      "source": [
        "# let's transform the data with the pipeline\n",
        "X_train_imp= median_imputer.transform(X_train)\n",
        "X_test_imp= median_imputer.transform(X_test)\n",
        "\n"
      ],
      "execution_count": 0,
      "outputs": []
    },
    {
      "cell_type": "code",
      "metadata": {
        "id": "0GVZE7cH_O4i",
        "colab_type": "code",
        "colab": {},
        "outputId": "3367ef3e-a976-4dad-da43-7820e090929c"
      },
      "source": [
        "X_test_imp.isnull().sum()"
      ],
      "execution_count": 0,
      "outputs": [
        {
          "output_type": "execute_result",
          "data": {
            "text/plain": [
              "national_inv        0\n",
              "lead_time           0\n",
              "in_transit_qty      0\n",
              "forecast_3_month    0\n",
              "sales_1_month       0\n",
              "sales_9_month       0\n",
              "dtype: int64"
            ]
          },
          "metadata": {
            "tags": []
          },
          "execution_count": 301
        }
      ]
    },
    {
      "cell_type": "code",
      "metadata": {
        "id": "NxVvCZ9q_O4n",
        "colab_type": "code",
        "colab": {},
        "outputId": "ba32a46f-be80-4a51-cae1-730970f8c978"
      },
      "source": [
        "print(\"Before OverSampling, counts of label '1': {}\".format(sum(y_train == 1))) \n",
        "print(\"Before OverSampling, counts of label '0': {} \\n\".format(sum(y_train == 0)))"
      ],
      "execution_count": 0,
      "outputs": [
        {
          "output_type": "stream",
          "text": [
            "Before OverSampling, counts of label '1': 7890\n",
            "Before OverSampling, counts of label '0': 1173612 \n",
            "\n"
          ],
          "name": "stdout"
        }
      ]
    },
    {
      "cell_type": "code",
      "metadata": {
        "id": "LX8WXFij_O4q",
        "colab_type": "code",
        "colab": {}
      },
      "source": [
        "from imblearn.over_sampling import SMOTE "
      ],
      "execution_count": 0,
      "outputs": []
    },
    {
      "cell_type": "code",
      "metadata": {
        "id": "DjRGx5Um_O4s",
        "colab_type": "code",
        "colab": {}
      },
      "source": [
        "sm = SMOTE(random_state = 2) \n",
        "X_train_res, y_train_res = sm.fit_sample(X_train_imp, y_train.ravel())"
      ],
      "execution_count": 0,
      "outputs": []
    },
    {
      "cell_type": "code",
      "metadata": {
        "id": "z2We07ys_O4u",
        "colab_type": "code",
        "colab": {},
        "outputId": "eaa67d3c-74f5-409b-b421-d1e84ef77014"
      },
      "source": [
        "print('After OverSampling, the shape of train_X: {}'.format(X_train_res.shape)) \n",
        "print('After OverSampling, the shape of train_y: {} \\n'.format(y_train_res.shape)) \n",
        "  \n",
        "print(\"After OverSampling, counts of label '1': {}\".format(sum(y_train_res == 1))) \n",
        "print(\"After OverSampling, counts of label '0': {}\".format(sum(y_train_res == 0))) \n"
      ],
      "execution_count": 0,
      "outputs": [
        {
          "output_type": "stream",
          "text": [
            "After OverSampling, the shape of train_X: (2347224, 6)\n",
            "After OverSampling, the shape of train_y: (2347224,) \n",
            "\n",
            "After OverSampling, counts of label '1': 1173612\n",
            "After OverSampling, counts of label '0': 1173612\n"
          ],
          "name": "stdout"
        }
      ]
    },
    {
      "cell_type": "code",
      "metadata": {
        "id": "gxEE0-Xt_O4x",
        "colab_type": "code",
        "colab": {},
        "outputId": "a419ef4c-7ee6-4a7c-b1ba-6552ac92b537"
      },
      "source": [
        "pd.DataFrame(y_test).isnull().sum()"
      ],
      "execution_count": 0,
      "outputs": [
        {
          "output_type": "execute_result",
          "data": {
            "text/plain": [
              "went_on_backorder    0\n",
              "dtype: int64"
            ]
          },
          "metadata": {
            "tags": []
          },
          "execution_count": 306
        }
      ]
    },
    {
      "cell_type": "code",
      "metadata": {
        "id": "XJXSnrtD_O42",
        "colab_type": "code",
        "colab": {},
        "outputId": "76e21644-3a07-4c8d-92ab-9f84044a7e25"
      },
      "source": [
        "run_randomForests(X_train_res, X_test_imp, y_train_res, y_test)"
      ],
      "execution_count": 0,
      "outputs": [
        {
          "output_type": "stream",
          "text": [
            "Train set\n",
            "Random Forests roc-auc: 0.9318944997004008\n",
            "Test set\n",
            "Random Forests roc-auc: 0.923884138014975\n"
          ],
          "name": "stdout"
        }
      ]
    },
    {
      "cell_type": "code",
      "metadata": {
        "id": "yJriIZ6e_O44",
        "colab_type": "code",
        "colab": {},
        "outputId": "3f2f70c1-87de-49c3-d25d-f425db76d4fc"
      },
      "source": [
        "run_logistic(X_train_res, X_test_imp, y_train_res, y_test)"
      ],
      "execution_count": 0,
      "outputs": [
        {
          "output_type": "stream",
          "text": [
            "Train set\n",
            "Logistic Regression roc-auc: 0.7867343695323941\n",
            "Test set\n",
            "Logistic Regression roc-auc: 0.7856680810123601\n"
          ],
          "name": "stdout"
        }
      ]
    },
    {
      "cell_type": "markdown",
      "metadata": {
        "id": "P6tOfz8b_O47",
        "colab_type": "text"
      },
      "source": [
        "# under sampling "
      ]
    },
    {
      "cell_type": "code",
      "metadata": {
        "id": "5iJ9VACQ_O47",
        "colab_type": "code",
        "colab": {}
      },
      "source": [
        "from imblearn.under_sampling import NearMiss\n"
      ],
      "execution_count": 0,
      "outputs": []
    },
    {
      "cell_type": "code",
      "metadata": {
        "id": "rcZyvZlj_O49",
        "colab_type": "code",
        "colab": {}
      },
      "source": [
        "# Implementing Undersampling for Handling Imbalanced \n",
        "nm = NearMiss()\n",
        "X_under_samp,y_under_samp = nm.fit_sample(X_train_imp,y_train)\n",
        "X_test_under_samp,y_test_under_samp = nm.fit_sample(X_test_imp,y_test)"
      ],
      "execution_count": 0,
      "outputs": []
    },
    {
      "cell_type": "code",
      "metadata": {
        "id": "rCkj-JCM_O4-",
        "colab_type": "code",
        "colab": {},
        "outputId": "32ad4401-645a-4d7d-d90e-6cdade38bb3c"
      },
      "source": [
        "run_randomForests(X_under_samp, X_test_under_samp, y_under_samp,y_test_under_samp)"
      ],
      "execution_count": 0,
      "outputs": [
        {
          "output_type": "stream",
          "text": [
            "Train set\n",
            "Random Forests roc-auc: 0.9724768642342988\n",
            "Test set\n",
            "Random Forests roc-auc: 0.9643722428111132\n"
          ],
          "name": "stdout"
        }
      ]
    },
    {
      "cell_type": "code",
      "metadata": {
        "id": "ZnKXJQ1Z_O5C",
        "colab_type": "code",
        "colab": {},
        "outputId": "e2d2df30-5084-41c6-f272-b6ccf0b8ad7e"
      },
      "source": [
        "run_logistic(X_under_samp,X_test_under_samp, y_under_samp,y_test_under_samp)"
      ],
      "execution_count": 0,
      "outputs": [
        {
          "output_type": "stream",
          "text": [
            "Train set\n",
            "Logistic Regression roc-auc: 0.9639831106099233\n",
            "Test set\n",
            "Logistic Regression roc-auc: 0.9612623353803823\n"
          ],
          "name": "stdout"
        }
      ]
    },
    {
      "cell_type": "code",
      "metadata": {
        "id": "2HfIoh14_O5G",
        "colab_type": "code",
        "colab": {}
      },
      "source": [
        ""
      ],
      "execution_count": 0,
      "outputs": []
    }
  ]
}